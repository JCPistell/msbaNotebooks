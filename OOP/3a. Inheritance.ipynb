{
 "cells": [
  {
   "cell_type": "markdown",
   "metadata": {},
   "source": [
    "## Inheritance\n",
    "\n",
    "One of the key features of OOP is the ability to create subclasses. We can define a class that **inherits** all the attributes and methods of a parent class, then add additional functionality or even overwrite existing functionality. This prevents us from recreating the same code over and over again, which saves us time and makes our code easier to manage.\n",
    "\n",
    "Let's see it in action. We'll begin by creating two classes - one for a car and another for a bus"
   ]
  },
  {
   "cell_type": "code",
   "execution_count": 21,
   "metadata": {},
   "outputs": [],
   "source": [
    "class car:\n",
    "    isRunning = False\n",
    "    \n",
    "    def __init__(self, size, speed, color, sound):\n",
    "        self.size = size\n",
    "        self.speed = speed\n",
    "        self.color = color\n",
    "        self.sound = sound\n",
    "        \n",
    "    def startEngine(self):\n",
    "        print(self.sound)\n",
    "        self.isRunning = True\n",
    "        \n",
    "    def drive(self, direction):\n",
    "        if self.isRunning:\n",
    "            print(\"driving %s at %d mpg\" % (direction, self.speed))\n",
    "        else:\n",
    "            print(\"need to start the engine first!\")\n",
    "            \n",
    "    def fishtail(self):\n",
    "        print(\"Does a fishtail!\")\n",
    "        \n",
    "\n",
    "class bus:\n",
    "    isRunning = False\n",
    "    \n",
    "    def __init__(self, size, speed, color, sound):\n",
    "        self.size = size\n",
    "        self.speed = speed\n",
    "        self.color = color\n",
    "        self.sound = sound\n",
    "        \n",
    "    def startEngine(self):\n",
    "        print(self.sound)\n",
    "        self.isRunning = True\n",
    "        \n",
    "    def drive(self, direction):\n",
    "        if self.isRunning:\n",
    "            print(\"driving %s at %d mpg\" % (direction, self.speed))\n",
    "        else:\n",
    "            print(\"need to start the engine first!\")\n",
    "            \n",
    "    def pickUpPassengers(self):\n",
    "        print(\"Picks up passengers\")"
   ]
  },
  {
   "cell_type": "code",
   "execution_count": 22,
   "metadata": {},
   "outputs": [
    {
     "name": "stdout",
     "output_type": "stream",
     "text": [
      "need to start the engine first!\n"
     ]
    }
   ],
   "source": [
    "charger = car(4, 80, \"red\", \"vroom!\")\n",
    "FF1 = bus(20, 50, \"grey\", \"ggrrrrmrmmmmmmmmm\")\n",
    "\n",
    "charger.drive(\"east\")"
   ]
  },
  {
   "cell_type": "code",
   "execution_count": 23,
   "metadata": {},
   "outputs": [
    {
     "name": "stdout",
     "output_type": "stream",
     "text": [
      "vroom!\n",
      "driving east at 80 mpg\n"
     ]
    }
   ],
   "source": [
    "charger.startEngine()\n",
    "charger.drive(\"east\")"
   ]
  },
  {
   "cell_type": "code",
   "execution_count": 24,
   "metadata": {},
   "outputs": [
    {
     "name": "stdout",
     "output_type": "stream",
     "text": [
      "ggrrrrmrmmmmmmmmm\n",
      "driving west at 50 mpg\n"
     ]
    }
   ],
   "source": [
    "FF1.startEngine()\n",
    "FF1.drive(\"west\")"
   ]
  },
  {
   "cell_type": "code",
   "execution_count": 25,
   "metadata": {},
   "outputs": [
    {
     "name": "stdout",
     "output_type": "stream",
     "text": [
      "Does a fishtail!\n"
     ]
    }
   ],
   "source": [
    "charger.fishtail()"
   ]
  },
  {
   "cell_type": "code",
   "execution_count": 26,
   "metadata": {},
   "outputs": [
    {
     "name": "stdout",
     "output_type": "stream",
     "text": [
      "Picks up passengers\n"
     ]
    }
   ],
   "source": [
    "FF1.pickUpPassengers()"
   ]
  },
  {
   "cell_type": "markdown",
   "metadata": {},
   "source": [
    "This works, but hopefully you noticed all the code duplication between these two classes. We can save ourselves a lot of effort and make our code much more resiliant by creating a vehicle parent class and then extending it for cars and busses:"
   ]
  },
  {
   "cell_type": "code",
   "execution_count": 3,
   "metadata": {},
   "outputs": [],
   "source": [
    "class vehicle:\n",
    "    isRunning = False\n",
    "    \n",
    "    def __init__(self, size, speed, color, sound):\n",
    "        self.size = size\n",
    "        self.speed = speed\n",
    "        self.color = color\n",
    "        self.sound = sound\n",
    "        \n",
    "    def startEngine(self):\n",
    "        print(self.sound)\n",
    "        self.isRunning = True\n",
    "        \n",
    "    def drive(self, direction):\n",
    "        if self.isRunning:\n",
    "            print(\"driving %s at %d mpg\" % (direction, self.speed))\n",
    "        else:\n",
    "            print(\"need to start the engine first!\")\n",
    "            "
   ]
  },
  {
   "cell_type": "markdown",
   "metadata": {},
   "source": [
    "Extending classes is easy - simply reference the parent class in the class delaration"
   ]
  },
  {
   "cell_type": "code",
   "execution_count": 11,
   "metadata": {},
   "outputs": [],
   "source": [
    "class car(vehicle):\n",
    "    def __init__(self, size, speed, color, sound):\n",
    "        vehicle.__init__(self, size, speed, color, sound)\n",
    "        \n",
    "    def fishtail(self):\n",
    "        print(\"Does a fishtail\")\n",
    "        \n",
    "class bus(vehicle):\n",
    "    def __init__(self, size, speed, color, sound):\n",
    "        vehicle.__init__(self, size, speed, color, sound)\n",
    "        \n",
    "    def pickUpPassengers(self):\n",
    "        print(\"Picks up passengers\")"
   ]
  },
  {
   "cell_type": "code",
   "execution_count": 12,
   "metadata": {},
   "outputs": [
    {
     "name": "stdout",
     "output_type": "stream",
     "text": [
      "vroom!\n",
      "driving southwest at 80 mpg\n"
     ]
    }
   ],
   "source": [
    "civic = car(4, 80, \"blue\", \"vroom!\")\n",
    "dash = bus(20, 50, \"grey\", \"ggrrrrmrmmmmmmmmm\")\n",
    "\n",
    "civic.startEngine()\n",
    "civic.drive(\"southwest\")"
   ]
  },
  {
   "cell_type": "markdown",
   "metadata": {},
   "source": [
    "Notice how in our child class's constructor we call the parent's constructor? There's actually a better way to do this: use the `super()` method instead. When using `super()` we don't need the explicit `self` reference. Go ahead and make the switch now in the code above.\n",
    "\n",
    "`super()` has another advantage - it enables **multiple inheritance**, or a class inheriting from two different parent classes. Multiple inheritance gets tricky and is a bit outside the scope of this introductory session so we won't go over it (we'll cover object composition next, which is my preferred way of achieving the same effect)\n",
    "\n",
    "## Exercise: More vehicles!\n",
    "\n",
    "Create a few more vehicles feel free to alter modify the parent class if you need to. See how far you can push it!"
   ]
  },
  {
   "cell_type": "code",
   "execution_count": null,
   "metadata": {},
   "outputs": [],
   "source": []
  }
 ],
 "metadata": {
  "kernelspec": {
   "display_name": "Python 3",
   "language": "python",
   "name": "python3"
  },
  "language_info": {
   "codemirror_mode": {
    "name": "ipython",
    "version": 3
   },
   "file_extension": ".py",
   "mimetype": "text/x-python",
   "name": "python",
   "nbconvert_exporter": "python",
   "pygments_lexer": "ipython3",
   "version": "3.6.2"
  }
 },
 "nbformat": 4,
 "nbformat_minor": 2
}
