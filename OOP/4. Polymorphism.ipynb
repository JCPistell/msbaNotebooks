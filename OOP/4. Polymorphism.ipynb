{
 "cells": [
  {
   "cell_type": "markdown",
   "metadata": {},
   "source": [
    "## Polymorphism & Duck Typing\n",
    "\n",
    "One of the main benefits of OOP is it's capacity for **polymorphism** or the ability to process a method differently based on the underlying object class. We've already seen one common type of polymorphism... overriding a parent class's method with a new one. We'll now look at another form of polymorphism and a heavily used feature of python - **duck typing.**\n",
    "\n",
    "Duck typing gets its name from the expression \"If it walks like a duck and quacks like a duck, then it's a duck.\" More formally, by delaying type-checking until runtime we can achieve polymorphic behavior by simply calling an appropriate method. An example will help make this concept clear:"
   ]
  },
  {
   "cell_type": "code",
   "execution_count": null,
   "metadata": {},
   "outputs": [],
   "source": [
    "# Let's make a duck\n",
    "class duck:\n",
    "    flyAltitude = 30\n",
    "    speed = 5\n",
    "    \n",
    "    def __init__(self, color, name):\n",
    "        self.color = color\n",
    "        self.name = name\n",
    "        \n",
    "    def fly(self):\n",
    "        print(\"%s flaps at %d feet going %d mph\" % (self.name, self.flyAltitude, self.speed))"
   ]
  },
  {
   "cell_type": "code",
   "execution_count": null,
   "metadata": {},
   "outputs": [],
   "source": [
    "bob = duck(\"green\", \"bob\")"
   ]
  },
  {
   "cell_type": "code",
   "execution_count": null,
   "metadata": {},
   "outputs": [],
   "source": [
    "bob.fly()"
   ]
  },
  {
   "cell_type": "code",
   "execution_count": null,
   "metadata": {},
   "outputs": [],
   "source": [
    "# Airplanes and ducks are very different, so no inheritance structures will work. But airplanes can also fly...\n",
    "# even if they do so very differently from ducks\n",
    "class airplane:\n",
    "    cruiseAlt = 1000\n",
    "    speed = 300\n",
    "    \n",
    "    def __init__(self, numEngines, tailNumber):\n",
    "        self.numEngines = numEngines\n",
    "        self.tailNumber = tailNumber\n",
    "        \n",
    "    def fly(self):\n",
    "        print(\"aircraft %d flies at %d feet going %d mpg using %d engines\" % \n",
    "              (self.tailNumber, self.cruiseAlt, self.speed, self.numEngines))\n",
    "        "
   ]
  },
  {
   "cell_type": "code",
   "execution_count": null,
   "metadata": {},
   "outputs": [],
   "source": [
    "airbus = airplane(4, 8357)\n",
    "\n",
    "airbus.fly()"
   ]
  },
  {
   "cell_type": "code",
   "execution_count": null,
   "metadata": {},
   "outputs": [],
   "source": [
    "# Whales, on the other hand, most definitely do NOT fly.\n",
    "\n",
    "class whale:\n",
    "    swimspeed = 2\n",
    "    size = 20\n",
    "    \n",
    "    def __init__(self, color, name):\n",
    "        self.color = color\n",
    "        self.name = name\n",
    "        \n",
    "    def swim(self):\n",
    "        print(\"%s swims going %d mph\" % (self.name, self.swimspeed))"
   ]
  },
  {
   "cell_type": "code",
   "execution_count": null,
   "metadata": {},
   "outputs": [],
   "source": [
    "tom = whale(\"black\", \"tom\")"
   ]
  },
  {
   "cell_type": "code",
   "execution_count": null,
   "metadata": {},
   "outputs": [],
   "source": [
    "tom.swim()"
   ]
  },
  {
   "cell_type": "markdown",
   "metadata": {},
   "source": [
    "Now we'll use duck typing to create a takeoff function. A successful takeoff requires that the object taking off can fly. Doesn't matter how it flies or what it is... the only thing that is important is whether it can fly. We'll pass an object in and then attempt to make that argument fly via a method call. If it does, great, takeoff will succeed. If the argument is an object that cannot fly we will handle the error gracefully:"
   ]
  },
  {
   "cell_type": "code",
   "execution_count": null,
   "metadata": {},
   "outputs": [],
   "source": [
    "def takeOff(flier):\n",
    "    print(\"attempting takeoff!\")\n",
    "    try:\n",
    "        flier.fly()\n",
    "    except:\n",
    "        print(\"a %s can't fly!\" % type(flier).__name__)\n",
    "    "
   ]
  },
  {
   "cell_type": "code",
   "execution_count": null,
   "metadata": {},
   "outputs": [],
   "source": [
    "# An airplane can fly, so takeoff will work\n",
    "takeOff(airbus)"
   ]
  },
  {
   "cell_type": "code",
   "execution_count": null,
   "metadata": {},
   "outputs": [],
   "source": [
    "# Ducks can also fly (albeit very differently than an airplane) so takeoff will still work\n",
    "\n",
    "takeOff(bob)"
   ]
  },
  {
   "cell_type": "code",
   "execution_count": null,
   "metadata": {},
   "outputs": [],
   "source": [
    "# Whales cannot fly. Takeoff will fail - gracefully\n",
    "\n",
    "takeOff(tom)"
   ]
  },
  {
   "cell_type": "code",
   "execution_count": null,
   "metadata": {},
   "outputs": [],
   "source": [
    "# Note that we can use any kind of object now...\n",
    "\n",
    "x = 6\n",
    "takeOff(x)"
   ]
  },
  {
   "cell_type": "markdown",
   "metadata": {},
   "source": [
    "Duck typing is an excellent example of how python is an **EAFP** (easier to ask forgiveness than permission) language. This is in contrast to more traditional **LBYL** (look before you leap) languages where you have to do a lot of legwork to verify your method calls will work up front. In python, best practice is to just call the method and handle any errors that pop up.\n",
    "\n",
    "We can use duck typing and polymorphism to create some pretty weird behavior. For example:"
   ]
  },
  {
   "cell_type": "code",
   "execution_count": null,
   "metadata": {},
   "outputs": [],
   "source": [
    "class wackyint:\n",
    "    def __init__(self, value):\n",
    "        self.value = value\n",
    "        \n",
    "    def __add__(self, num):\n",
    "        return(self.value - num)"
   ]
  },
  {
   "cell_type": "code",
   "execution_count": null,
   "metadata": {},
   "outputs": [],
   "source": [
    "wackyx = wackyint(6)\n",
    "\n",
    "y = 5\n",
    "\n",
    "x + y"
   ]
  },
  {
   "cell_type": "code",
   "execution_count": null,
   "metadata": {},
   "outputs": [],
   "source": [
    "wackyx + y"
   ]
  }
 ],
 "metadata": {
  "kernelspec": {
   "display_name": "Python 3",
   "language": "python",
   "name": "python3"
  },
  "language_info": {
   "codemirror_mode": {
    "name": "ipython",
    "version": 3
   },
   "file_extension": ".py",
   "mimetype": "text/x-python",
   "name": "python",
   "nbconvert_exporter": "python",
   "pygments_lexer": "ipython3",
   "version": "3.6.2"
  }
 },
 "nbformat": 4,
 "nbformat_minor": 2
}
