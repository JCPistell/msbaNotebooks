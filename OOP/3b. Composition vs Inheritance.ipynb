{
 "cells": [
  {
   "cell_type": "markdown",
   "metadata": {},
   "source": [
    "## Composition vs. Inheritance\n",
    "\n",
    "As we've seen, **inheritance** can be used to extend class functionality while reducing code duplication. That's really neat. However, it has limitations that you need to be aware of when designing systems. Here we will look at a typical limitation of inheritance and demonstrate how **composition** can help us.\n",
    "\n",
    "(I basically cribbed this entire example from the wonderful [funfunfunction](https://youtu.be/wfMtDGfHWpA) which you should watch regularly)\n",
    "\n",
    "Let's say we want to build a simulated world full of dogs and cats. The dogs will bark, the cats will meow and, because nature calls, both will poop. We build a generic animal class with the shared functionality and extend it to make a dog class and a cat class:"
   ]
  },
  {
   "cell_type": "code",
   "execution_count": null,
   "metadata": {},
   "outputs": [],
   "source": [
    "class animal:\n",
    "    \n",
    "    alive = True\n",
    "    \n",
    "    def poop(self):\n",
    "        print(\"nature calls\")\n",
    "    \n",
    "class dog(animal):\n",
    "    \n",
    "    def bark(self):\n",
    "        print(\"WOOF!\")\n",
    "        \n",
    "class cat(animal):\n",
    "    \n",
    "    def meow(self):\n",
    "        print(\"Meow\")\n",
    "        \n",
    "\n",
    "# Let's make some animals\n",
    "trigger = dog()\n",
    "marley = cat()        "
   ]
  },
  {
   "cell_type": "code",
   "execution_count": null,
   "metadata": {},
   "outputs": [],
   "source": [
    "trigger.bark()"
   ]
  },
  {
   "cell_type": "code",
   "execution_count": null,
   "metadata": {},
   "outputs": [],
   "source": [
    "trigger.poop()"
   ]
  },
  {
   "cell_type": "code",
   "execution_count": null,
   "metadata": {},
   "outputs": [],
   "source": [
    "marley.meow()"
   ]
  },
  {
   "cell_type": "code",
   "execution_count": null,
   "metadata": {},
   "outputs": [],
   "source": [
    "marley.poop()"
   ]
  },
  {
   "cell_type": "markdown",
   "metadata": {},
   "source": [
    "Now let's make some robots. We'll need some cleaning robots to clean up all the poop and some murder robots to keep the dog and cat populations in check. Both kinds of robots will be able to drive so we'll create another inheritance tree:"
   ]
  },
  {
   "cell_type": "code",
   "execution_count": null,
   "metadata": {},
   "outputs": [],
   "source": [
    "class robot:\n",
    "    \n",
    "    def drive(self, direction, speed):\n",
    "        print(\"driving %s at %d mph\" % (direction, speed))\n",
    "        \n",
    "class cleanerRobot(robot):\n",
    "    \n",
    "    def clean(self):\n",
    "        print(\"cleaning up poop\")\n",
    "        \n",
    "class murderRobot(robot):\n",
    "    \n",
    "    def murder(self, animal):\n",
    "        print(\"Terminating Target...\")\n",
    "        try:\n",
    "            animal.alive = False\n",
    "            print(\"Target Terminated\")\n",
    "        except:\n",
    "            print(\"Target cannot be killed\")\n",
    "        \n",
    "    \n",
    "roomba = cleanerRobot()\n",
    "arnold = murderRobot()"
   ]
  },
  {
   "cell_type": "code",
   "execution_count": null,
   "metadata": {},
   "outputs": [],
   "source": [
    "arnold.drive(\"west\", 5)"
   ]
  },
  {
   "cell_type": "code",
   "execution_count": null,
   "metadata": {},
   "outputs": [],
   "source": [
    "trigger.alive"
   ]
  },
  {
   "cell_type": "code",
   "execution_count": null,
   "metadata": {},
   "outputs": [],
   "source": [
    "arnold.murder(trigger)"
   ]
  },
  {
   "cell_type": "code",
   "execution_count": null,
   "metadata": {},
   "outputs": [],
   "source": [
    "trigger.alive"
   ]
  },
  {
   "cell_type": "code",
   "execution_count": null,
   "metadata": {},
   "outputs": [],
   "source": [
    "roomba.clean()"
   ]
  },
  {
   "cell_type": "code",
   "execution_count": null,
   "metadata": {},
   "outputs": [],
   "source": [
    "# Let's make sure we handle odd cases correctly...\n",
    "arnold.murder(6)"
   ]
  },
  {
   "cell_type": "markdown",
   "metadata": {},
   "source": [
    "### The limits of inheritance\n",
    "\n",
    "A few more months of development go by and we have a nice little stable system of dogs, cats, and robots. Time to kick back and relax.\n",
    "\n",
    "...at this point, without fail, your project manager will come to you and say: **\"Our customers demand a MURDER ROBOT DOG!\"**\n",
    "\n",
    "![ohshit](https://m.popkey.co/c54180/Ly6zp.gif)\n",
    "\n",
    "Aaaaaand we're screwed. A murder robot dog needs to be able to drive, murder, and bark... but it can't poop. Our entire inheritance structure is ruined. Now we're either in for a lengthy and painful refactoring or we're going to be stuck with a **gorilla-bananna problem** (i.e. we request a bananna and get a 900lb. gorilla holding a bananna)\n",
    "\n",
    "### Composition to the rescue!\n",
    "\n",
    "We can build a more flexible system if we utilize object composition instead of inheritance. With inheritance we design our objects based on *what they are.* Composition means we design our objects based on *what they do.* Let's look at an example:"
   ]
  },
  {
   "cell_type": "code",
   "execution_count": null,
   "metadata": {},
   "outputs": [],
   "source": [
    "class barker:\n",
    "    def bark(self):\n",
    "        print(\"Woof!\")\n",
    "        \n",
    "class meower:\n",
    "    def meow(self):\n",
    "        print(\"Meow\")\n",
    "        \n",
    "class pooper:\n",
    "    def poop(self):\n",
    "        print(\"nature calls\")\n",
    "        \n",
    "class driver:\n",
    "    def drive(self, direction, speed):\n",
    "        print(\"driving %s at %d mpg\" % (direction, speed))\n",
    "        \n",
    "class cleaner:\n",
    "    def clean(self):\n",
    "        print(\"cleaning up poop\")\n",
    "\n",
    "class murderer:\n",
    "    def murder(self, target):\n",
    "        print(\"Terminating Target...\")\n",
    "        try:\n",
    "            target.alive = False\n",
    "            print(\"Target terminated\")\n",
    "        except:\n",
    "            print(\"Target cannot be killed\")\n",
    "            "
   ]
  },
  {
   "cell_type": "markdown",
   "metadata": {},
   "source": [
    "Now we can build our objects based on their appropriate behavior:"
   ]
  },
  {
   "cell_type": "code",
   "execution_count": null,
   "metadata": {},
   "outputs": [],
   "source": [
    "class dog2:\n",
    "    \n",
    "    alive = True\n",
    "    \n",
    "    def __init__(self):\n",
    "        self.barker = barker()\n",
    "        self.pooper = pooper()\n",
    "        \n",
    "class cleanerBot:\n",
    "    def __init__(self):\n",
    "        self.driver = driver()\n",
    "        self.cleaner = cleaner()"
   ]
  },
  {
   "cell_type": "code",
   "execution_count": null,
   "metadata": {},
   "outputs": [],
   "source": [
    "# Let's test it out!\n",
    "\n",
    "roomba2 = cleanerBot()\n",
    "roomba2.cleaner.clean()"
   ]
  },
  {
   "cell_type": "code",
   "execution_count": null,
   "metadata": {},
   "outputs": [],
   "source": [
    "fido = dog2()\n",
    "fido.pooper.poop()"
   ]
  },
  {
   "cell_type": "code",
   "execution_count": null,
   "metadata": {},
   "outputs": [],
   "source": [
    "fido.barker.bark()\n",
    "fido.alive"
   ]
  },
  {
   "cell_type": "markdown",
   "metadata": {},
   "source": [
    "Now we can easily fulfill the request to make a murder robot dog. All we do is compose our class from the appropriate behaviors:"
   ]
  },
  {
   "cell_type": "code",
   "execution_count": null,
   "metadata": {},
   "outputs": [],
   "source": [
    "class murderRobotDog:\n",
    "    def __init__(self):\n",
    "        self.driver = driver()\n",
    "        self.murderer = murderer()\n",
    "        self.barker = barker()"
   ]
  },
  {
   "cell_type": "code",
   "execution_count": null,
   "metadata": {},
   "outputs": [],
   "source": [
    "rex9000 = murderRobotDog()"
   ]
  },
  {
   "cell_type": "code",
   "execution_count": null,
   "metadata": {},
   "outputs": [],
   "source": [
    "rex9000.barker.bark()\n",
    "rex9000.driver.drive(\"north\", 10)\n",
    "rex9000.murderer.murder(fido)"
   ]
  },
  {
   "cell_type": "code",
   "execution_count": null,
   "metadata": {},
   "outputs": [],
   "source": [
    "fido.alive"
   ]
  },
  {
   "cell_type": "markdown",
   "metadata": {},
   "source": [
    "### Composition > Inheritance?\n",
    "\n",
    "So, why even use inheritance? If you can design your systems to take advantage of it then inheritance is \"easier.\" Composition often requires a little bit more setup, but it's much much more flexible. Modern languages, like Go, don't even allow for inheritance - just composition.\n",
    "\n",
    "So, yeah, basically try to use composition if you can. It will make for more flexible objects. However, there's nothing wrong with using inheritance... just make sure you plan accordingly.\n",
    "\n",
    "### Exercise: Make a catbus\n",
    "\n",
    "You heard me. Make a catbus! It should probably have some cat behavior and the ability to drive. Maybe some extra magic stuff thrown in too?\n",
    "\n",
    "![catbus!](https://media.giphy.com/media/yJCI9RPWWNkHK/giphy.gif)"
   ]
  },
  {
   "cell_type": "code",
   "execution_count": null,
   "metadata": {},
   "outputs": [],
   "source": []
  }
 ],
 "metadata": {
  "kernelspec": {
   "display_name": "Python 3",
   "language": "python",
   "name": "python3"
  },
  "language_info": {
   "codemirror_mode": {
    "name": "ipython",
    "version": 3
   },
   "file_extension": ".py",
   "mimetype": "text/x-python",
   "name": "python",
   "nbconvert_exporter": "python",
   "pygments_lexer": "ipython3",
   "version": "3.6.2"
  }
 },
 "nbformat": 4,
 "nbformat_minor": 2
}
