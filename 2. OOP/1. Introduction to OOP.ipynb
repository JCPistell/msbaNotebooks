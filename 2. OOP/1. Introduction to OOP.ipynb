{
 "cells": [
  {
   "cell_type": "markdown",
   "metadata": {},
   "source": [
    "# Object-Oriented Programming\n",
    "\n",
    "Object Oriented Programming (or OOP) is probably the most common and popular **programming paradigm** in the world today. Its ubiquity means that if you plan on ever working with code after this program you will encounter it many many times. Many of the most common enterprise-level production languages (Java, C++, etc.) are object-oriented and most popular languages make use of it to some extent.\n",
    "\n",
    "As we press on, it's important to keep the following in mind: The purpose of OOP is to make thinking about and designing code easier. This is nothing more than a move up the tower of abstraction.\n",
    "\n",
    "A disclaimer: OOP is an enormous topic and we'll only have time to scratch the surface. These are deep waters and you are encouraged to explore them more on your own.\n",
    "\n",
    "## What is OOP?\n",
    "\n",
    "OOP is all about bundling bits of code together to create **objects**. An object may contain pieces of data, commonly known as **attributes**, and procedures, commonly known as **methods.** As programmers, all we then need to worry about is getting these objects to interact with each other in useful ways. That's it!\n",
    "\n",
    "Let's look at an example:\n",
    "\n",
    "Imagine we need to represent a dog in our code. This dog may have a few different attributes, such as:\n",
    "\n",
    "- Name: Fido\n",
    "- Color: Black\n",
    "- isHungry: True\n",
    "\n",
    "we will also want our dog objects to be able to do stuff, so we may want the following methods:\n",
    "\n",
    "- eat\n",
    "- bark\n",
    "- rollOver\n",
    "\n",
    "Let's code this up:"
   ]
  },
  {
   "cell_type": "code",
   "execution_count": null,
   "metadata": {},
   "outputs": [],
   "source": [
    "class dog:\n",
    "    name = \"Fido\"\n",
    "    color = \"Black\"\n",
    "    sound = \"WOOF!\"\n",
    "    isHungry = True\n",
    "    \n",
    "    def eat(self, food = \"kibble\"):\n",
    "        print(\"%s eats %s!\" % (self.name, food))\n",
    "        \n",
    "    def bark(self):\n",
    "        print(self.sound)\n",
    "        \n",
    "    def rollOver(self):\n",
    "        print(\"%s rolls over!\" % self.name)\n",
    "        \n",
    "        "
   ]
  },
  {
   "cell_type": "markdown",
   "metadata": {},
   "source": [
    "In order to create new objects we have to define a new **class.** Once we have our class defined we can use it to spawn an instance of the class, known as an object. This point trips some people up: A class is a generic set of instructions. We use a class definition to create specific objects. Let's create a dog object now:"
   ]
  },
  {
   "cell_type": "code",
   "execution_count": null,
   "metadata": {},
   "outputs": [],
   "source": [
    "fido = dog()\n",
    "\n",
    "# the object 'fido' is now of class 'dog'. Let's examine some attributes:\n",
    "\n",
    "fido.name"
   ]
  },
  {
   "cell_type": "code",
   "execution_count": null,
   "metadata": {},
   "outputs": [],
   "source": [
    "fido.color"
   ]
  },
  {
   "cell_type": "code",
   "execution_count": null,
   "metadata": {},
   "outputs": [],
   "source": [
    "fido.isHungry"
   ]
  },
  {
   "cell_type": "code",
   "execution_count": null,
   "metadata": {},
   "outputs": [],
   "source": [
    "# Let's use some methods\n",
    "\n",
    "fido.eat(\"bacon\")"
   ]
  },
  {
   "cell_type": "code",
   "execution_count": null,
   "metadata": {},
   "outputs": [],
   "source": [
    "fido.bark()"
   ]
  },
  {
   "cell_type": "code",
   "execution_count": null,
   "metadata": {},
   "outputs": [],
   "source": [
    "fido.rollOver()"
   ]
  },
  {
   "cell_type": "markdown",
   "metadata": {},
   "source": [
    "An important aspect of objects is they have **state.** Their internal attributes have particular values and those values can be used and changed."
   ]
  },
  {
   "cell_type": "code",
   "execution_count": null,
   "metadata": {},
   "outputs": [],
   "source": [
    "fido.color = \"Purple\"\n",
    "fido.color"
   ]
  },
  {
   "cell_type": "markdown",
   "metadata": {},
   "source": [
    "### Exercise 1:\n",
    "\n",
    "Let's go back to our class definition and change the eat method to check on whether `isHungry` is true. If it's true, we print the message and set isHungry to false. If it's false, we'll print a \"not hungry\" message.\n",
    "\n",
    "- Bonus: implement some logic that makes fido get hungry after rolling over\n",
    "- Super Bonus: Same as above, but after rolling over 3 times. (Make sure to reset after triggering!)"
   ]
  },
  {
   "cell_type": "code",
   "execution_count": null,
   "metadata": {},
   "outputs": [],
   "source": [
    "# Use this space to test your changes after making them above\n",
    "\n"
   ]
  },
  {
   "cell_type": "markdown",
   "metadata": {},
   "source": [
    "## Constructors and Object Creation\n",
    "\n",
    "You may have noticed a serious limitation to the code above. What if we want to create a dog object with different attributes? This is where **constructors** come in - they allow us to initialize our objects with a particular state. In Python, we do this with a special `__init__` method:"
   ]
  },
  {
   "cell_type": "code",
   "execution_count": null,
   "metadata": {},
   "outputs": [],
   "source": [
    "# Same as above but some attributes are now moved into the constructor method:\n",
    "\n",
    "class dog:\n",
    "    sound = \"WOOF!\"\n",
    "    isHungry = True\n",
    "    \n",
    "    def __init__(self, name, color):\n",
    "        self.name = name\n",
    "        self.color = color\n",
    "    \n",
    "    def eat(self):\n",
    "        print(\"%s eats!\" % self.name)\n",
    "        \n",
    "    def bark(self):\n",
    "        print(self.sound)\n",
    "        \n",
    "    def rollOver(self):\n",
    "        print(\"%s rolls over!\" % self.name)\n",
    "        \n",
    "# Let's try it out!\n",
    "\n",
    "fido = dog(name = \"Fido\", color = \"Black\")\n",
    "trigger = dog(name = \"Trigger\", color = \"Brown\")"
   ]
  },
  {
   "cell_type": "code",
   "execution_count": null,
   "metadata": {},
   "outputs": [],
   "source": [
    "print(fido.name, fido.color)"
   ]
  },
  {
   "cell_type": "code",
   "execution_count": null,
   "metadata": {},
   "outputs": [],
   "source": [
    "print(trigger.name, trigger.color)"
   ]
  },
  {
   "cell_type": "markdown",
   "metadata": {},
   "source": [
    "#### self?\n",
    "What's going on with all of those `self` arguments? That's a nice little shortcut for letting the python interpreter know to look at that particular instance of the class. So, for fido, `self.name` is the same as `fido.name` while for trigger it is `trigger.name`. Nearly all OOP languages have something like this."
   ]
  },
  {
   "cell_type": "markdown",
   "metadata": {},
   "source": [
    "### Exercise 2:\n",
    "\n",
    "Create a new class for a different kind of animal. Add some attributes and methods and make sure to use a constructor."
   ]
  },
  {
   "cell_type": "code",
   "execution_count": null,
   "metadata": {},
   "outputs": [],
   "source": [
    "# Create your object and run some tests!"
   ]
  },
  {
   "cell_type": "markdown",
   "metadata": {},
   "source": [
    "## Objects. Objects everywhere\n",
    "\n",
    "![buzz](http://i0.kym-cdn.com/entries/icons/mobile/000/002/868/XXEverywhere.jpg)\n",
    "\n",
    "Everything in Python is an object, which means everything has an associated class. We can use `type` to see what class an object is and `dir` to list its methods:"
   ]
  },
  {
   "cell_type": "code",
   "execution_count": null,
   "metadata": {},
   "outputs": [],
   "source": [
    "# Let's look at an integer\n",
    "type(6)"
   ]
  },
  {
   "cell_type": "code",
   "execution_count": null,
   "metadata": {},
   "outputs": [],
   "source": [
    "# Methods for int?\n",
    "dir(6)"
   ]
  },
  {
   "cell_type": "code",
   "execution_count": null,
   "metadata": {},
   "outputs": [],
   "source": [
    "# How about a string?\n",
    "type(\"foo\")"
   ]
  },
  {
   "cell_type": "code",
   "execution_count": null,
   "metadata": {},
   "outputs": [],
   "source": [
    "# String methods:\n",
    "dir(\"foo\")"
   ]
  },
  {
   "cell_type": "code",
   "execution_count": null,
   "metadata": {},
   "outputs": [],
   "source": [
    "# What methods do ints and strings have in common?\n",
    "\n",
    "set(dir(\"foo\")) & set(dir(6))"
   ]
  },
  {
   "cell_type": "code",
   "execution_count": null,
   "metadata": {},
   "outputs": [],
   "source": [
    "# Let's use the __add__ method for an int:\n",
    "\n",
    "a = 6\n",
    "b = 5\n",
    "\n",
    "a.__add__(b)"
   ]
  },
  {
   "cell_type": "code",
   "execution_count": null,
   "metadata": {},
   "outputs": [],
   "source": [
    "# now for some syntactic sugar:\n",
    "\n",
    "a + b # The exact same call under the hood..."
   ]
  },
  {
   "cell_type": "code",
   "execution_count": null,
   "metadata": {},
   "outputs": [],
   "source": []
  }
 ],
 "metadata": {
  "kernelspec": {
   "display_name": "Python 3",
   "language": "python",
   "name": "python3"
  },
  "language_info": {
   "codemirror_mode": {
    "name": "ipython",
    "version": 3
   },
   "file_extension": ".py",
   "mimetype": "text/x-python",
   "name": "python",
   "nbconvert_exporter": "python",
   "pygments_lexer": "ipython3",
   "version": "3.7.1"
  }
 },
 "nbformat": 4,
 "nbformat_minor": 2
}
