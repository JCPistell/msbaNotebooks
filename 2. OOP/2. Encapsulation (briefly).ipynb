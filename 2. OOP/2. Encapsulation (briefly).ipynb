{
 "cells": [
  {
   "cell_type": "markdown",
   "metadata": {},
   "source": [
    "## Encapsulation\n",
    "\n",
    "I'd be remiss if I didn't discuss **encapsulation** in an OOP class. There are actually two computer-sciencey concepts both referred to as encapsulation:\n",
    "\n",
    "1. The bundling of pieces of data with the methods for acting on that data.\n",
    "2. A means of restricting direct access to an object's attributes\n",
    "\n",
    "The first meaning should sound familar... OOP is all about bundling together attributes and methods, so in that sense Python's OOP system is well-encapsulated.\n",
    "\n",
    "The second meaning can get a little confusing. We can imagine scenarios in which we may not want the people using all elements our classes/objects freely. This could be to prevent them from doing some potentially stupid/bad stuff that will crash a program or system. It could be a security issue... could be any number of things. We just want to make sure some attributes and methods are not directly visible or usable from outside the object.\n",
    "\n",
    "In older languages like Java, this is done with `private` flags:\n",
    "\n",
    "```java\n",
    "\n",
    "public class robot() {\n",
    "    \n",
    "    public String sound = \"bee-boop bee-boop\";\n",
    "    private String name = \"Steve\";\n",
    "    private int selfDestructCode = 11235;\n",
    "    \n",
    "    public void setName(int newName) {\n",
    "        this.name = newName;\n",
    "    }\n",
    "                      \n",
    "    public String getName() {\n",
    "        return this.name;\n",
    "    }\n",
    "    \n",
    "}\n",
    "```\n",
    "\n",
    "In this case we can't directly access the robot's private attributes. We have to use the given **getter** and **setter** methods. In order to manipulate the robot's name we have to explicitly call the method:\n",
    "\n",
    "```java\n",
    "robot steve = new robot();\n",
    "\n",
    "//sound is public so we can access it directly\n",
    "\n",
    "steve.sound = \"beep beep beep\";\n",
    "System.out.println(steve.sound); // prints our new sound \"beep beep beep\"\n",
    "\n",
    "//name is not, so we have to use our getters and setters\n",
    "\n",
    "steve.setName(\"Steve-o\");\n",
    "System.out.println(steve.getName());  // prints our new name, \"Steve-o\"\n",
    "```\n",
    "\n",
    "Note that we, as the robot class designers, have not provided a way to use selfDestruct outside the object. Hopefully this prevents headaches for users of our robot class down the line.\n",
    "\n",
    "### Java looks gross. What about Python?\n",
    "\n",
    "Python (and most more modern languages) takes a different approach to this kind of encapsulation... basically, it doesn't do it.\n",
    "\n",
    "Python makes the assumption that we're all adults and if you need to access internal object attributes and methods you have a good and valid reason to do so. By convention, if you're designing a class and want to indicate that a particular attribute or method should be used internally only you prefix it with an `_`"
   ]
  },
  {
   "cell_type": "code",
   "execution_count": null,
   "metadata": {},
   "outputs": [],
   "source": [
    "class robot:\n",
    "    \n",
    "    sound = \"bee-boop bee-boop\"\n",
    "    _name = \"Steve\" # Indicates that this is an internal attribute and should be used with care...\n",
    "    __selfDestructCode = 11235 # This will do some name-mangling to prevent willy-nilly access... see below.\n",
    "    \n",
    "    def getDestructCode(self):\n",
    "        print(self.__selfDestructCode)\n",
    "    \n",
    "steve = robot()\n",
    "\n",
    "# We can access our name attribute normally if we want to\n",
    "print(steve._name)"
   ]
  },
  {
   "cell_type": "code",
   "execution_count": null,
   "metadata": {},
   "outputs": [],
   "source": [
    "# This will error out...\n",
    "print(steve.__selfDestructCode)"
   ]
  },
  {
   "cell_type": "code",
   "execution_count": null,
   "metadata": {},
   "outputs": [],
   "source": [
    "# But we can still get to it...\n",
    "print(steve._robot__selfDestructCode)"
   ]
  },
  {
   "cell_type": "code",
   "execution_count": null,
   "metadata": {},
   "outputs": [],
   "source": [
    "# Or just use the getter method...\n",
    "steve.getDestructCode()"
   ]
  },
  {
   "cell_type": "markdown",
   "metadata": {},
   "source": [
    "Many consider getter and setter methods to be *unpythonic*. Others use them all the time. You should be aware of what they mean and why they're there. In time, I'm sure you will form your own opinions about the right way to use Python. You know you're making progress as a coder when you start arguing with people on the internet about why their perfectly valid code is stupid and wrong.\n",
    "\n",
    "![xkcd](https://imgs.xkcd.com/comics/duty_calls.png)"
   ]
  }
 ],
 "metadata": {
  "kernelspec": {
   "display_name": "Python 3",
   "language": "python",
   "name": "python3"
  },
  "language_info": {
   "codemirror_mode": {
    "name": "ipython",
    "version": 3
   },
   "file_extension": ".py",
   "mimetype": "text/x-python",
   "name": "python",
   "nbconvert_exporter": "python",
   "pygments_lexer": "ipython3",
   "version": "3.6.2"
  }
 },
 "nbformat": 4,
 "nbformat_minor": 2
}
