{
 "cells": [
  {
   "cell_type": "markdown",
   "metadata": {},
   "source": [
    "# Basic Python Data Types\n",
    "\n",
    "All data you work with in Python (and every modern languages) have a type. Understanding these types is foundational to understanding how to solve problems using the language. One of the many things about R that makes it kind of bizarre in the landscape of coding languages is its fairly bizarre data types. Python follows a much more \"standard\" model:"
   ]
  },
  {
   "cell_type": "code",
   "execution_count": null,
   "metadata": {},
   "outputs": [],
   "source": [
    "# First we have basic ints and floats for basic numeric operations\n",
    "\n",
    "x = 3\n",
    "y = 3.14"
   ]
  },
  {
   "cell_type": "code",
   "execution_count": null,
   "metadata": {},
   "outputs": [],
   "source": [
    "type(x)"
   ]
  },
  {
   "cell_type": "code",
   "execution_count": null,
   "metadata": {},
   "outputs": [],
   "source": [
    "type(y)"
   ]
  },
  {
   "cell_type": "code",
   "execution_count": null,
   "metadata": {},
   "outputs": [],
   "source": [
    "# Hello floating point math weirdness my old friend\n",
    "x + y"
   ]
  },
  {
   "cell_type": "code",
   "execution_count": null,
   "metadata": {},
   "outputs": [],
   "source": [
    "# Strings can represent any kind of text data\n",
    "\n",
    "greeting = \"hello there\"\n",
    "name = \"Colin\""
   ]
  },
  {
   "cell_type": "code",
   "execution_count": null,
   "metadata": {},
   "outputs": [],
   "source": [
    "# What does '+' do for strings?\n",
    "greeting + name"
   ]
  },
  {
   "cell_type": "code",
   "execution_count": null,
   "metadata": {},
   "outputs": [],
   "source": [
    "# I'm going to say this now and it's going to be confusing, but we'll get to it more below...\n",
    "# In python, strings are ordered (obviously), iterable, but immutable...\n",
    "\n",
    "name[0]"
   ]
  },
  {
   "cell_type": "code",
   "execution_count": null,
   "metadata": {},
   "outputs": [],
   "source": [
    "name[0] = \"X\""
   ]
  },
  {
   "cell_type": "code",
   "execution_count": null,
   "metadata": {},
   "outputs": [],
   "source": [
    "# Booleans are here too!\n",
    "this_is_neat = True"
   ]
  },
  {
   "cell_type": "code",
   "execution_count": null,
   "metadata": {},
   "outputs": [],
   "source": [
    "if this_is_neat:\n",
    "    print(\"This is super neat!\")\n",
    "else:\n",
    "    print(\"What am I doing here\")"
   ]
  },
  {
   "cell_type": "markdown",
   "metadata": {},
   "source": [
    "### Lists\n",
    "\n",
    "So far, this is similar to R (except nothing is a vector... in R even a single value is a vector of length 1). However, now we get to some interesting differences. Let's start with lists, which how you say \"array\" in python:"
   ]
  },
  {
   "cell_type": "code",
   "execution_count": null,
   "metadata": {},
   "outputs": [],
   "source": [
    "# Defining a list\n",
    "\n",
    "fibonacci = [1, 1, 2, 3, 5]\n",
    "another_list = [8, 13]"
   ]
  },
  {
   "cell_type": "code",
   "execution_count": null,
   "metadata": {},
   "outputs": [],
   "source": [
    "# What does '+' do here??\n",
    "fibonacci + another_list"
   ]
  },
  {
   "cell_type": "code",
   "execution_count": null,
   "metadata": {},
   "outputs": [],
   "source": [
    "# Lists are ordered (Note that python is 0-indexed) and iterable\n",
    "fibonacci[0]"
   ]
  },
  {
   "cell_type": "code",
   "execution_count": null,
   "metadata": {},
   "outputs": [],
   "source": [
    "# Lists are also mutable\n",
    "fibonacci[0] = 9\n",
    "fibonacci"
   ]
  },
  {
   "cell_type": "markdown",
   "metadata": {},
   "source": [
    "## Tuples\n",
    "\n",
    "A tuple is an ordered, iterable, but *immutable* collection. "
   ]
  },
  {
   "cell_type": "code",
   "execution_count": null,
   "metadata": {},
   "outputs": [],
   "source": [
    "my_tuple = (1,2,3) #note the parens instead of the brackets"
   ]
  },
  {
   "cell_type": "code",
   "execution_count": null,
   "metadata": {},
   "outputs": [],
   "source": [
    "my_tuple[0] = 9"
   ]
  },
  {
   "cell_type": "markdown",
   "metadata": {},
   "source": [
    "### Dictionaries\n",
    "\n",
    "A very common data type in all languages is a key-value pair mapping. In R you can use a list for this but most languages, including python, have a more dedicated type. In python, it's called a dictionary, or dict for short"
   ]
  },
  {
   "cell_type": "code",
   "execution_count": null,
   "metadata": {},
   "outputs": [],
   "source": [
    "# Defining a dict\n",
    "\n",
    "meal_plan = {\"breakfast\": \"eggs\", \"lunch\": \"sandwich\", \"dinner\": \"chicken\"}"
   ]
  },
  {
   "cell_type": "code",
   "execution_count": null,
   "metadata": {},
   "outputs": [],
   "source": [
    "# accessing a value based on a key\n",
    "meal_plan[\"breakfast\"]"
   ]
  },
  {
   "cell_type": "code",
   "execution_count": null,
   "metadata": {},
   "outputs": [],
   "source": [
    "# Note that dicts are not ordered\n",
    "meal_plan[0]"
   ]
  },
  {
   "cell_type": "code",
   "execution_count": null,
   "metadata": {},
   "outputs": [],
   "source": [
    "# but they are mutable (and iterable)\n",
    "meal_plan[\"breakfast\"] = \"tacos\""
   ]
  },
  {
   "cell_type": "code",
   "execution_count": null,
   "metadata": {},
   "outputs": [],
   "source": [
    "meal_plan"
   ]
  },
  {
   "cell_type": "markdown",
   "metadata": {},
   "source": [
    "Dictionaries hold particular importance for us as they are key (hehe) for representing json objects in python"
   ]
  },
  {
   "cell_type": "markdown",
   "metadata": {},
   "source": [
    "## Oh god, it's time to talk about iterables, isn't it?\n",
    "\n",
    "Deep breath everyone, it's going to be ok...\n",
    "\n",
    "I'm going to simplify this concept a lot for the moment. Python defines an iterable as anything that can be stepped through in a sensible way. Think about a `for` loop.\n",
    "\n",
    "So, a list is definitely an iterable:"
   ]
  },
  {
   "cell_type": "code",
   "execution_count": null,
   "metadata": {},
   "outputs": [],
   "source": [
    "foo = [1,2,3]\n",
    "for i in foo:\n",
    "    print(f\"the value of i in this loop is {i}\")"
   ]
  },
  {
   "cell_type": "markdown",
   "metadata": {},
   "source": [
    "A dictionary is also iterable... (but note what we get)"
   ]
  },
  {
   "cell_type": "code",
   "execution_count": null,
   "metadata": {},
   "outputs": [],
   "source": [
    "foo = {\"x\": \"bar\", \"y\": \"baz\"}\n",
    "for i in foo:\n",
    "    print(f\"the value of i in this loop is {i}\")"
   ]
  },
  {
   "cell_type": "code",
   "execution_count": null,
   "metadata": {},
   "outputs": [],
   "source": [
    "# If we wanted all the things from a dict we have to do something like this...\n",
    "for key,value in foo.items(): # handy method for making an iterable collection of key-value tuples (OBVIOUSLY) :)\n",
    "    print(f\"the key of this pass is {key} and the value is {value}\")\n"
   ]
  },
  {
   "cell_type": "markdown",
   "metadata": {},
   "source": [
    "Strings are also iterable!"
   ]
  },
  {
   "cell_type": "code",
   "execution_count": null,
   "metadata": {},
   "outputs": [],
   "source": [
    "for i in \"Hello there\":\n",
    "    print(f\"i in this pass is {i}\")"
   ]
  },
  {
   "cell_type": "markdown",
   "metadata": {},
   "source": [
    "That's probably good enough for now, but I'll leave you with this tidbit. In R, if you're using a `for` loop you're making mistakes. Python doesn't have this issue... `for` loops are totally cool. But sometimes you can avoid typing by clever use of iterables.\n",
    "\n",
    "Here's a common situation. You've managed to get two lists and you need to turn them into a key-value association... one list contains the keys and the other contains the values. How do?"
   ]
  },
  {
   "cell_type": "code",
   "execution_count": null,
   "metadata": {},
   "outputs": [],
   "source": [
    "key_list = [\"first\", \"second\", \"third\"]\n",
    "value_list = [\"dog\", \"cat\", \"dragon\"]\n",
    "\n",
    "# A for loop would totally work but let's be overly clever\n",
    "\n",
    "final_dict = {key:value for (key, value) in zip(key_list, value_list)}"
   ]
  },
  {
   "cell_type": "code",
   "execution_count": null,
   "metadata": {},
   "outputs": [],
   "source": [
    "final_dict"
   ]
  },
  {
   "cell_type": "markdown",
   "metadata": {},
   "source": [
    "Yay! We saved some typing using a fundamental knowledge of iterables and what is known as a `comprehension`. No need to worry if this doesn't click right away, but it does highlight some \"pythonic\" ways of solving common problems."
   ]
  },
  {
   "cell_type": "code",
   "execution_count": null,
   "metadata": {},
   "outputs": [],
   "source": []
  }
 ],
 "metadata": {
  "kernelspec": {
   "display_name": "Python 3",
   "language": "python",
   "name": "python3"
  },
  "language_info": {
   "codemirror_mode": {
    "name": "ipython",
    "version": 3
   },
   "file_extension": ".py",
   "mimetype": "text/x-python",
   "name": "python",
   "nbconvert_exporter": "python",
   "pygments_lexer": "ipython3",
   "version": "3.7.1"
  }
 },
 "nbformat": 4,
 "nbformat_minor": 2
}
