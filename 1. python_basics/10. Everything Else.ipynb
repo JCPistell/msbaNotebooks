{
 "cells": [
  {
   "cell_type": "markdown",
   "metadata": {},
   "source": [
    "# There's obviously a lot more to all this...\n",
    "\n",
    "...but that's a pretty good start I hope. Hopefully there's a little time left and we can talk about some things that Jupyter Notebooks are not particularly well suited for demonstrating - namely Linting, Virtualenvs, and unit testing.\n",
    "\n",
    "## Linting?\n",
    "\n",
    "So, you successfully graduate, get a job doing computery things, and show up on your first day ready to write some code. You get access to the repo, get your first jira ticket, and start typing. Living the dream.\n",
    "\n",
    "Now, there is no faster way to immediately lose the respect of your new team than by opening a Pull Request without running a basic linter on your code (other than borking the repo by fucking up basic git commands)\n",
    "\n",
    "Linting will check your code for basic errors, which can be a huge timesaver, and will also make sure your code conforms to formatting best practices. In Python, [PEP8](https://www.python.org/dev/peps/pep-0008/) is the style you should conform to.\n",
    "\n",
    "You've got a few standard choices for linters: [flake8](http://flake8.pycqa.org/en/latest/), [pyflakes](https://github.com/PyCQA/pyflakes), or [black](https://black.readthedocs.io/en/stable/).\n",
    "\n",
    "flake8 and pyflakes will both identify and suggest fixes to you. Black is more aggressive and forces its changes upon you. I personally like flake8 but they're all good.\n",
    "\n",
    "To ensure consistant application of linting, you should integrate it into your flow - any editor worth its salt will have plugins to make this easy. Some will lint for you in real time while you type. Others will wait until you save and then give you a report. I prefer the latter - I want to get my thoughts down first and reformat all in one go.\n",
    "\n",
    "## Virtualenvs?\n",
    "\n",
    "Python is a very broad language and as a result has a LOT of available libraries. Different projects may require different combinations of libraries and, inevitably, these libraries will begin to conflict with each other. Over the years the best practice that has emerged to deal with this issue is Virtual Environments. In short, a virtualenv is a self-contained per-project installation of python that includes all the libraries that project needs. That way everything is kept nice and tidy and distinct.\n",
    "\n",
    "[Here's](https://docs.python-guide.org/dev/virtualenvs/) a pretty good guide for getting started. I personally prefer to work with `virtualenv` directly or to use `virtualenvwrapper`\n",
    "\n",
    "## Unit Testing\n",
    "\n",
    "This is a very large and very important subject. As the data/analytics space moves more towards adopting DevOps/DataOps best practices unit testing will become more and more expected in all the code you write.\n",
    "\n",
    "If there's time we'll do a brief demonstration. Otherwise, file it away as something to dig into on your own... sooner rather than later."
   ]
  }
 ],
 "metadata": {
  "kernelspec": {
   "display_name": "Python 3",
   "language": "python",
   "name": "python3"
  },
  "language_info": {
   "codemirror_mode": {
    "name": "ipython",
    "version": 3
   },
   "file_extension": ".py",
   "mimetype": "text/x-python",
   "name": "python",
   "nbconvert_exporter": "python",
   "pygments_lexer": "ipython3",
   "version": "3.7.1"
  }
 },
 "nbformat": 4,
 "nbformat_minor": 2
}
