{
 "cells": [
  {
   "cell_type": "markdown",
   "metadata": {},
   "source": [
    "# Working With Files\n",
    "\n",
    "Another very common task is opening a file and reading in its contents. In most data analysis contexts, this is handled by specific methods of specialized libraries (e.g. `pandas` and `read_csv()`). However, often we'll need a more generalized technique for opening an arbitrary file and parsing the contents:"
   ]
  },
  {
   "cell_type": "code",
   "execution_count": null,
   "metadata": {},
   "outputs": [],
   "source": [
    "# We begin by using the open function to creating a TextIOWrapper object\n",
    "f = open(\"/home/jovyan/files/test_file.txt\")"
   ]
  },
  {
   "cell_type": "code",
   "execution_count": null,
   "metadata": {},
   "outputs": [],
   "source": [
    "f"
   ]
  },
  {
   "cell_type": "code",
   "execution_count": null,
   "metadata": {},
   "outputs": [],
   "source": [
    "# We can read the contents of the file as a string\n",
    "f.read()"
   ]
  },
  {
   "cell_type": "code",
   "execution_count": null,
   "metadata": {},
   "outputs": [],
   "source": [
    "# Note that this consumes the iterable...\n",
    "f.read()"
   ]
  },
  {
   "cell_type": "code",
   "execution_count": null,
   "metadata": {},
   "outputs": [],
   "source": [
    "# We always want to close the connection when we're done... this prevents memory leaks\n",
    "# Pro Tip: This may or may not be a trap on a certain company's technical interview ;)\n",
    "f.close()"
   ]
  },
  {
   "cell_type": "code",
   "execution_count": null,
   "metadata": {},
   "outputs": [],
   "source": [
    "# The object still exists but attempts to read will throw an exception\n",
    "f.read()"
   ]
  },
  {
   "cell_type": "markdown",
   "metadata": {},
   "source": [
    "## Writing to files\n",
    "\n",
    "So far so good, but what about writing to a file? If we examine the `f` object above we can see that it defaults to mode `r`, which stands for read. We can create another file connection in mode `w` for write:"
   ]
  },
  {
   "cell_type": "code",
   "execution_count": null,
   "metadata": {},
   "outputs": [],
   "source": [
    "# Establishing our file connections:\n",
    "f = open(\"/home/jovyan/files/test_file.txt\")\n",
    "w = open(\"/home/jovyan/files/test_output.txt\", \"w\")"
   ]
  },
  {
   "cell_type": "code",
   "execution_count": null,
   "metadata": {},
   "outputs": [],
   "source": [
    "# Note that looping a file object goes line by line by default.\n",
    "for num,line in enumerate(f):\n",
    "    print(line)\n",
    "    w.write(f\"line {num}: {line}\")"
   ]
  },
  {
   "cell_type": "code",
   "execution_count": null,
   "metadata": {},
   "outputs": [],
   "source": [
    "# Always clean up\n",
    "f.close()\n",
    "w.close()"
   ]
  },
  {
   "cell_type": "markdown",
   "metadata": {},
   "source": [
    "## Better connection management with context blocks\n",
    "\n",
    "A very helpful feature of Python is the ability to set up a context block. This offers several advantages - it's more readable and it automatically cleans up after itself once the block is exited. Using context blocks is considered best practice whenever possible:"
   ]
  },
  {
   "cell_type": "code",
   "execution_count": null,
   "metadata": {},
   "outputs": [],
   "source": [
    "# We set up a context block with a `with` keyword\n",
    "\n",
    "with open(\"/home/jovyan/files/test_file.txt\") as f:\n",
    "    for line in f:\n",
    "        print(line)\n",
    "        \n",
    "# No need to close the connection... it closes itself!"
   ]
  },
  {
   "cell_type": "markdown",
   "metadata": {},
   "source": [
    "## Other reading options\n",
    "\n",
    "Often times we want to get each line of a file into a list. We can use the `readlines` method for that:"
   ]
  },
  {
   "cell_type": "code",
   "execution_count": null,
   "metadata": {},
   "outputs": [],
   "source": [
    "with open(\"/home/jovyan/files/test_file.txt\") as f:\n",
    "    lines = f.readlines()\n",
    "    \n",
    "lines"
   ]
  },
  {
   "cell_type": "code",
   "execution_count": null,
   "metadata": {},
   "outputs": [],
   "source": []
  }
 ],
 "metadata": {
  "kernelspec": {
   "display_name": "Python 3",
   "language": "python",
   "name": "python3"
  },
  "language_info": {
   "codemirror_mode": {
    "name": "ipython",
    "version": 3
   },
   "file_extension": ".py",
   "mimetype": "text/x-python",
   "name": "python",
   "nbconvert_exporter": "python",
   "pygments_lexer": "ipython3",
   "version": "3.7.1"
  }
 },
 "nbformat": 4,
 "nbformat_minor": 2
}
