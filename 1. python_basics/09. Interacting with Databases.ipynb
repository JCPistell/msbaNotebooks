{
 "cells": [
  {
   "cell_type": "markdown",
   "metadata": {},
   "source": [
    "# Interacting with Databases\n",
    "\n",
    "Another day-to-day task you will encounter (especially as a data person) is interacting with databases. Most database systems will have a python SDK available and these tend to follow a common connection/cursor paradigm.\n",
    "\n",
    "(In fact, this paradigm spans most programming languages so you'll be a leg up when you move on to your next one!)\n",
    "\n",
    "First, we instantiate a connection to the database. Then we need to create a `cursor`. A cursor can then execute queries and return results. Let's look at an example\n",
    "\n",
    "Side Note: We're using sqlite here for simplicity and portability but sqlite is a pretty neat thing you should look into more - very useful easy to use tool for mucking about with databases."
   ]
  },
  {
   "cell_type": "code",
   "execution_count": null,
   "metadata": {},
   "outputs": [],
   "source": [
    "import sqlite3\n",
    "\n",
    "# Since this is an unencrypted file no real connection specs are needed. In the real world\n",
    "# you'll probably need to pass in host, credentials, port, etc.\n",
    "\n",
    "db = sqlite3.connect(\"/home/jovyan/files/cities.db\")"
   ]
  },
  {
   "cell_type": "code",
   "execution_count": null,
   "metadata": {},
   "outputs": [],
   "source": [
    "# Creating a cursor object\n",
    "cursor = db.cursor()\n",
    "\n",
    "# We're going to pass a simple query in as a string\n",
    "query = \"select * from cities limit 10\"\n",
    "\n",
    "# And now we can execute it\n",
    "cursor.execute(query)"
   ]
  },
  {
   "cell_type": "markdown",
   "metadata": {},
   "source": [
    "## Where are the results?\n",
    "\n",
    "`execute()` stores the results of the query in the cursor object. We need to fetch them. Here we will cheat a little and just fetch all results at once, since we know the results are small. In reality you will more often than not want to use `fetchone()` to grab one row of results. Cursors and their results are basically iterables, so you can use any kind of looping construct to handle results a row at a time and not explode your memory."
   ]
  },
  {
   "cell_type": "code",
   "execution_count": null,
   "metadata": {},
   "outputs": [],
   "source": [
    "cursor.fetchall()"
   ]
  },
  {
   "cell_type": "code",
   "execution_count": null,
   "metadata": {},
   "outputs": [],
   "source": [
    "# Note that, as with all iterators, using them consumes the iterable. However fetching a consumed\n",
    "# cursor will not throw an exception. Curses!\n",
    "\n",
    "cursor.fetchone()"
   ]
  },
  {
   "cell_type": "markdown",
   "metadata": {},
   "source": [
    "## DDLs and commits\n",
    "\n",
    "Let's take a look at DDLs real quick. The concepts are very similar but we'll dig a little into the details of transactions and commits. Let's get to it:"
   ]
  },
  {
   "cell_type": "code",
   "execution_count": null,
   "metadata": {},
   "outputs": [],
   "source": [
    "# Let's make a new database (& file)\n",
    "new_db = sqlite3.connect(\"/home/jovyan/files/texteditors.db\")"
   ]
  },
  {
   "cell_type": "code",
   "execution_count": null,
   "metadata": {},
   "outputs": [],
   "source": [
    "# Time for the DDL statement\n",
    "\n",
    "create_table = \"\"\"CREATE TABLE text_editors\n",
    "    (name text, rating int, notes text)\"\"\"\n",
    "\n",
    "# Let's actually take advantage of doing this in code... Here's some data:\n",
    "\n",
    "gospel_truth = {\n",
    "    \"sublime\": {\"name\": \"sublime\", \"rating\": 8, \"notes\": \"old but trusty\"},\n",
    "    \"atom\": {\"name\": \"atom\", \"rating\": 8, \"notes\": \"open source is cool\"},\n",
    "    \"word\": {\"name\": \"word\", \"rating\": -100, \"notes\": \"what are doing?\"},\n",
    "    \"emacs\": {\"name\": \"emacs\", \"rating\": 9, \"notes\": \"begrudging respect, emacs\"},\n",
    "    \"vim\": {\"name\": \"vim\", \"rating\": 10, \"notes\": \"the one true editor\"}\n",
    "}\n",
    "\n",
    "# We'll need this later...\n",
    "# Note that we're using the library's server-side interpolation (the ?'s)\n",
    "# This is to keep us safe from SQL injection attacks... try to avoid standard\n",
    "# interpolation when programatically creating queries\n",
    "\n",
    "insert_statement = \"INSERT INTO text_editors VALUES (?, ?, ?)\""
   ]
  },
  {
   "cell_type": "code",
   "execution_count": null,
   "metadata": {},
   "outputs": [],
   "source": [
    "# Let's parse our data into a tidy iterable using a comprehension\n",
    "data_tuple = [tuple(i.values()) for i in gospel_truth.values()]"
   ]
  },
  {
   "cell_type": "code",
   "execution_count": null,
   "metadata": {},
   "outputs": [],
   "source": [
    "# Let's get a cursor and make the table\n",
    "new_cursor = new_db.cursor()\n",
    "new_cursor.execute(create_table)"
   ]
  },
  {
   "cell_type": "code",
   "execution_count": null,
   "metadata": {},
   "outputs": [],
   "source": [
    "# executemany() will execute the statement against every element in the iterable... awesome!\n",
    "new_cursor.executemany(insert_statement, data_tuple)"
   ]
  },
  {
   "cell_type": "code",
   "execution_count": null,
   "metadata": {},
   "outputs": [],
   "source": [
    "# We'll talk about this in a second. Note that we commit from the connection, not\n",
    "# the cursor...\n",
    "new_db.commit()"
   ]
  },
  {
   "cell_type": "code",
   "execution_count": null,
   "metadata": {},
   "outputs": [],
   "source": [
    "# How'd we do?\n",
    "new_cursor.execute(\"select * from text_editors where rating > 8\")\n",
    "new_cursor.fetchall()"
   ]
  },
  {
   "cell_type": "markdown",
   "metadata": {},
   "source": [
    "### What happens if we don't commit?\n",
    "\n",
    "Each connection is a transaction. This means that if you don't commit the database will roll back to its prior state. DDLs in most systems are autocommitted, but DMLs such as `insert` and `delete` are not... let's look at that:"
   ]
  },
  {
   "cell_type": "code",
   "execution_count": null,
   "metadata": {},
   "outputs": [],
   "source": [
    "# let's get another connection\n",
    "rollback_example_conn = sqlite3.connect(\"/home/jovyan/files/texteditors.db\")\n",
    "rollback_cur = rollback_example_conn.cursor()\n",
    "\n",
    "rollback_cur.execute(\"INSERT INTO text_editors VALUES ('pycharm', 5, 'ides make you weak')\")"
   ]
  },
  {
   "cell_type": "code",
   "execution_count": null,
   "metadata": {},
   "outputs": [],
   "source": [
    "# force closing the connection without committing\n",
    "# We'll come back and uncomment this commit command in a sec...\n",
    "\n",
    "# rollback_example_conn.commit()\n",
    "rollback_example_conn.close()"
   ]
  },
  {
   "cell_type": "code",
   "execution_count": null,
   "metadata": {},
   "outputs": [],
   "source": [
    "new_cursor.execute(\"select * from text_editors\")\n",
    "new_cursor.fetchall()"
   ]
  },
  {
   "cell_type": "markdown",
   "metadata": {},
   "source": [
    "Let's go back, uncomment the commit statement, and try the whole thing again... \n",
    "\n",
    "\n",
    "## SQLAlchemy\n",
    "\n",
    "SQLAlchemy is a popular library for interacting with databases that takes a different, more object-oriented approach to interacting with databases. The standard approach we covered above is more ubiquitous but you should probably [look into SQLAlchemy](https://www.sqlalchemy.org/) at some point in the future.\n",
    "\n",
    "## A SQL Injection Interlude\n",
    "![bobby_tables](https://imgs.xkcd.com/comics/exploits_of_a_mom.png)"
   ]
  }
 ],
 "metadata": {
  "kernelspec": {
   "display_name": "Python 3",
   "language": "python",
   "name": "python3"
  },
  "language_info": {
   "codemirror_mode": {
    "name": "ipython",
    "version": 3
   },
   "file_extension": ".py",
   "mimetype": "text/x-python",
   "name": "python",
   "nbconvert_exporter": "python",
   "pygments_lexer": "ipython3",
   "version": "3.7.1"
  }
 },
 "nbformat": 4,
 "nbformat_minor": 2
}
