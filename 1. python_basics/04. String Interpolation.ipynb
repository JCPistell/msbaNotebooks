{
 "cells": [
  {
   "cell_type": "markdown",
   "metadata": {},
   "source": [
    "# String Interpolation\n",
    "\n",
    "Formatting and interpolating strings is such a common activity that it's worth calling out in a special section. Python has actually evolved the way this works over the years so we'll start with the original technique and end with the most modern (and preferred) technique."
   ]
  },
  {
   "cell_type": "markdown",
   "metadata": {},
   "source": [
    "## The OG: %s substitution\n",
    "\n",
    "The original technique is to use `%s` to call out a substitution and then specify with a specific key"
   ]
  },
  {
   "cell_type": "code",
   "execution_count": 1,
   "metadata": {},
   "outputs": [
    {
     "data": {
      "text/plain": [
       "'Hello Colin. How are you'"
      ]
     },
     "execution_count": 1,
     "metadata": {},
     "output_type": "execute_result"
    }
   ],
   "source": [
    "\"Hello %s. How are you\" % \"Colin\""
   ]
  },
  {
   "cell_type": "code",
   "execution_count": 2,
   "metadata": {},
   "outputs": [],
   "source": [
    "#For more than one substitution pass a tuple of the replacements in. Note that order is super important"
   ]
  },
  {
   "cell_type": "code",
   "execution_count": 3,
   "metadata": {},
   "outputs": [
    {
     "data": {
      "text/plain": [
       "'I like to eat spam and eggs'"
      ]
     },
     "execution_count": 3,
     "metadata": {},
     "output_type": "execute_result"
    }
   ],
   "source": [
    "\"I like to eat %s and %s\" % (\"spam\", \"eggs\")"
   ]
  },
  {
   "cell_type": "markdown",
   "metadata": {},
   "source": [
    "## Better: the .format() method\n",
    "\n",
    "An improvement came along with the advent of the `format` method. Now we could make code more readable and more reliable"
   ]
  },
  {
   "cell_type": "code",
   "execution_count": 4,
   "metadata": {},
   "outputs": [
    {
     "data": {
      "text/plain": [
       "'I like to eat spam and eggs'"
      ]
     },
     "execution_count": 4,
     "metadata": {},
     "output_type": "execute_result"
    }
   ],
   "source": [
    "\"I like to eat {0} and {1}\".format(\"spam\", \"eggs\")"
   ]
  },
  {
   "cell_type": "code",
   "execution_count": 5,
   "metadata": {},
   "outputs": [
    {
     "data": {
      "text/plain": [
       "'I like to eat eggs and spam'"
      ]
     },
     "execution_count": 5,
     "metadata": {},
     "output_type": "execute_result"
    }
   ],
   "source": [
    "# Note that we can specify and control order\n",
    "\n",
    "\"I like to eat {1} and {0}\".format(\"spam\", \"eggs\")"
   ]
  },
  {
   "cell_type": "markdown",
   "metadata": {},
   "source": [
    "## Best: f strings\n",
    "\n",
    "As of Python 3.6 we can now use f strings - a common feature in other languages. We specify the presence of an f string by prepending \"f\". Then we simply call out the variables we want to insert"
   ]
  },
  {
   "cell_type": "code",
   "execution_count": 6,
   "metadata": {},
   "outputs": [
    {
     "data": {
      "text/plain": [
       "'my favorite food is tacos'"
      ]
     },
     "execution_count": 6,
     "metadata": {},
     "output_type": "execute_result"
    }
   ],
   "source": [
    "favorite_food = \"tacos\"\n",
    "\n",
    "f\"my favorite food is {favorite_food}\""
   ]
  },
  {
   "cell_type": "code",
   "execution_count": 7,
   "metadata": {},
   "outputs": [
    {
     "data": {
      "text/plain": [
       "'My favorite food for Tuesday is burritos. I eat it for breakfast, lunch, and dinner.'"
      ]
     },
     "execution_count": 7,
     "metadata": {},
     "output_type": "execute_result"
    }
   ],
   "source": [
    "# The super neat thing is that f strings will evaluate python expressions/functions\n",
    "\n",
    "def daily_favorite(day):\n",
    "    daily_foods = {\n",
    "        \"monday\": \"tacos\",\n",
    "        \"tuesday\": \"burritos\",\n",
    "        \"wednesday\": \"pizza\",\n",
    "        \"thursdays\": \"hamburgers\",\n",
    "        \"friday\": \"pasta\"\n",
    "    }\n",
    "    \n",
    "    return daily_foods.get(day.lower(), \"eggs\")\n",
    "\n",
    "today = \"Tuesday\"\n",
    "\n",
    "f\"My favorite food for {today} is {daily_favorite(today)}. I eat it for breakfast, lunch, and dinner.\""
   ]
  },
  {
   "cell_type": "markdown",
   "metadata": {},
   "source": [
    "## Which to use?\n",
    "\n",
    "f strings if at all possible is the technique to use. If you're in a pre 3.6 environment use the .format method."
   ]
  },
  {
   "cell_type": "code",
   "execution_count": null,
   "metadata": {},
   "outputs": [],
   "source": []
  }
 ],
 "metadata": {
  "kernelspec": {
   "display_name": "Python 3",
   "language": "python",
   "name": "python3"
  },
  "language_info": {
   "codemirror_mode": {
    "name": "ipython",
    "version": 3
   },
   "file_extension": ".py",
   "mimetype": "text/x-python",
   "name": "python",
   "nbconvert_exporter": "python",
   "pygments_lexer": "ipython3",
   "version": "3.7.1"
  }
 },
 "nbformat": 4,
 "nbformat_minor": 2
}
