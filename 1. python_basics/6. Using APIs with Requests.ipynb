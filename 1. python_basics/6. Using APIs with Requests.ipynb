{
 "cells": [
  {
   "cell_type": "markdown",
   "metadata": {},
   "source": [
    "# Working with APIs using the requests library\n",
    "\n",
    "A very common task you will take on over and over again is pulling needed data off of an api. If you are very lucky there will be an SDK (software development kit) that you can import like any other library that gives you a clean interface to the service. But that is usually not the case and you will be left with trying to figure out how to munge http. Fortunately, python's requests library makes the process much easier.\n",
    "\n",
    "You'll notice below that I'm creating a token variable based on an environment variable I passed into the docker container while spinning it up. This is to prevent you criminals from accessing my shit :) If you want to run the later examples on your own github repo you'll need to generate a Personal Access Token with the correct permissions. You can find instructions [here.](https://help.github.com/articles/creating-a-personal-access-token-for-the-command-line/)\n",
    "\n",
    "All jokes aside, be very very careful with your credentials. Careers have been ruined by careless commiting of secrets onto public repos. Once you've generated a PAT, the wrong way to pass it into your version of this notebook is pasting the string literal in... people could see, and, worse, it is super easy to commit that somewhere public."
   ]
  },
  {
   "cell_type": "code",
   "execution_count": 1,
   "metadata": {},
   "outputs": [],
   "source": [
    "import os\n",
    "import requests\n",
    "import json"
   ]
  },
  {
   "cell_type": "code",
   "execution_count": 2,
   "metadata": {},
   "outputs": [],
   "source": [
    "# Change these to the appropriate values to follow along using your own repo\n",
    "USER = \"JCPistell\"\n",
    "TOKEN = os.environ[\"GITHUB_TOKEN\"]"
   ]
  },
  {
   "cell_type": "markdown",
   "metadata": {},
   "source": [
    "## REST... yep... I totally know what that is...\n",
    "\n",
    "The vast majority of the APIs you will interact with are RESTful. REST stands for \"Representational State Transfer\". The basic idea here is two sides communicating over a network should use a common protocol and neither side should have to track the state of the other. In very simple terms, what this *actually* means is computers talking to each other using http. The vast majority of our interactions with the internet involve `GET` requests, but there are a few more words and RESTful APIs use them.\n",
    "\n",
    "I sincerely hope that clears up all potential questions because my knowledge of networking has now been exhausted. Let's just try it, shall we? :)\n",
    "\n",
    "We'll use the github api for the rest of these examples... as always it's important to [RTFM](https://developer.github.com/v3/)"
   ]
  },
  {
   "cell_type": "code",
   "execution_count": 26,
   "metadata": {},
   "outputs": [],
   "source": [
    "# The basics: let's do a standard get request\n",
    "r = requests.get(\"https://api.github.com/zen\")"
   ]
  },
  {
   "cell_type": "code",
   "execution_count": 27,
   "metadata": {},
   "outputs": [
    {
     "data": {
      "text/plain": [
       "'Half measures are as bad as nothing at all.'"
      ]
     },
     "execution_count": 27,
     "metadata": {},
     "output_type": "execute_result"
    }
   ],
   "source": [
    "r.text"
   ]
  },
  {
   "cell_type": "code",
   "execution_count": 5,
   "metadata": {},
   "outputs": [],
   "source": [
    "# Let's get some public info on me\n",
    "r = requests.get(f\"https://api.github.com/users/{USER}\")"
   ]
  },
  {
   "cell_type": "code",
   "execution_count": 6,
   "metadata": {},
   "outputs": [
    {
     "data": {
      "text/plain": [
       "200"
      ]
     },
     "execution_count": 6,
     "metadata": {},
     "output_type": "execute_result"
    }
   ],
   "source": [
    "# Status codes are a great way to prevent 404 exceptions in your code\n",
    "r.status_code"
   ]
  },
  {
   "cell_type": "code",
   "execution_count": 7,
   "metadata": {},
   "outputs": [
    {
     "data": {
      "text/plain": [
       "'application/json; charset=utf-8'"
      ]
     },
     "execution_count": 7,
     "metadata": {},
     "output_type": "execute_result"
    }
   ],
   "source": [
    "# We have full access to the response's header... useful for debugging \n",
    "r.headers[\"content-type\"]"
   ]
  },
  {
   "cell_type": "code",
   "execution_count": 8,
   "metadata": {},
   "outputs": [],
   "source": [
    "# If the response body is json we have a convenience function to parse it into a dict\n",
    "user_info = r.json()"
   ]
  },
  {
   "cell_type": "code",
   "execution_count": 9,
   "metadata": {},
   "outputs": [
    {
     "name": "stdout",
     "output_type": "stream",
     "text": [
      "{\n",
      "    \"login\": \"JCPistell\",\n",
      "    \"id\": 8353467,\n",
      "    \"node_id\": \"MDQ6VXNlcjgzNTM0Njc=\",\n",
      "    \"avatar_url\": \"https://avatars3.githubusercontent.com/u/8353467?v=4\",\n",
      "    \"gravatar_id\": \"\",\n",
      "    \"url\": \"https://api.github.com/users/JCPistell\",\n",
      "    \"html_url\": \"https://github.com/JCPistell\",\n",
      "    \"followers_url\": \"https://api.github.com/users/JCPistell/followers\",\n",
      "    \"following_url\": \"https://api.github.com/users/JCPistell/following{/other_user}\",\n",
      "    \"gists_url\": \"https://api.github.com/users/JCPistell/gists{/gist_id}\",\n",
      "    \"starred_url\": \"https://api.github.com/users/JCPistell/starred{/owner}{/repo}\",\n",
      "    \"subscriptions_url\": \"https://api.github.com/users/JCPistell/subscriptions\",\n",
      "    \"organizations_url\": \"https://api.github.com/users/JCPistell/orgs\",\n",
      "    \"repos_url\": \"https://api.github.com/users/JCPistell/repos\",\n",
      "    \"events_url\": \"https://api.github.com/users/JCPistell/events{/privacy}\",\n",
      "    \"received_events_url\": \"https://api.github.com/users/JCPistell/received_events\",\n",
      "    \"type\": \"User\",\n",
      "    \"site_admin\": false,\n",
      "    \"name\": \"Colin Pistell\",\n",
      "    \"company\": null,\n",
      "    \"blog\": \"http://colinpistell.com\",\n",
      "    \"location\": null,\n",
      "    \"email\": null,\n",
      "    \"hireable\": null,\n",
      "    \"bio\": null,\n",
      "    \"public_repos\": 38,\n",
      "    \"public_gists\": 2,\n",
      "    \"followers\": 14,\n",
      "    \"following\": 1,\n",
      "    \"created_at\": \"2014-08-04T15:54:58Z\",\n",
      "    \"updated_at\": \"2019-02-10T03:00:39Z\"\n",
      "}\n"
     ]
    }
   ],
   "source": [
    "# Which we can then pretty-print\n",
    "print(json.dumps(user_info, indent=4))"
   ]
  },
  {
   "cell_type": "code",
   "execution_count": 10,
   "metadata": {},
   "outputs": [
    {
     "data": {
      "text/plain": [
       "8353467"
      ]
     },
     "execution_count": 10,
     "metadata": {},
     "output_type": "execute_result"
    }
   ],
   "source": [
    "# Or access specific info\n",
    "user_info[\"id\"]"
   ]
  },
  {
   "cell_type": "markdown",
   "metadata": {},
   "source": [
    "## Authorization\n",
    "\n",
    "So far we've been using calls that don't require authorization. Let's now dig into some functionality that requires us to authorize the call with some credentials. The standard way to go about this is to provide a token in the header of your request. The requests library makes generating these headers very easy:"
   ]
  },
  {
   "cell_type": "code",
   "execution_count": 11,
   "metadata": {},
   "outputs": [],
   "source": [
    "# Now we get to use the token!\n",
    "header = {\"Authorization\": f\"token {TOKEN}\"}\n",
    "url = \"https://api.github.com/user/repos\"\n",
    "\n",
    "# We'll use a similar technique to generate some parameters. What do you think this does?\n",
    "params = {\"per_page\": 100}"
   ]
  },
  {
   "cell_type": "code",
   "execution_count": 12,
   "metadata": {},
   "outputs": [],
   "source": [
    "r = requests.get(url, headers=header, params=params)"
   ]
  },
  {
   "cell_type": "code",
   "execution_count": 13,
   "metadata": {},
   "outputs": [
    {
     "data": {
      "text/plain": [
       "['auth0-golang-web-app',\n",
       " 'dotfiles',\n",
       " 'gocsv',\n",
       " 'iamauth',\n",
       " 'maxwell',\n",
       " 'pubsub4s',\n",
       " 'ReactiveBaseSync',\n",
       " 'shopify_theme',\n",
       " 'windows-development-environment',\n",
       " 'API-created-example',\n",
       " 'Baltimore',\n",
       " 'branchingandloops',\n",
       " 'cdnow',\n",
       " 'CLT-Simulation',\n",
       " 'CodingOrientation',\n",
       " 'colinreverser',\n",
       " 'colinslooker',\n",
       " 'dataAnalyticsFinal',\n",
       " 'datasciencecoursera',\n",
       " 'datasharing',\n",
       " 'dotfiles',\n",
       " 'dplyr_deck',\n",
       " 'Earthquake-slides',\n",
       " 'Earthquakes',\n",
       " 'eduService1',\n",
       " 'ExData_Plotting1',\n",
       " 'fireProject',\n",
       " 'GetDataProject',\n",
       " 'interview-repo',\n",
       " 'JCPistell.github.io',\n",
       " 'jenkins-python-test',\n",
       " 'lookerVagrant',\n",
       " 'machine_learning_assignment',\n",
       " 'movieCluster',\n",
       " 'msbaNotebooks',\n",
       " 'msbaPresentations',\n",
       " 'msba_local_mysql',\n",
       " 'msba_vagrantfile',\n",
       " 'MSBC5070',\n",
       " 'pilgrimBank',\n",
       " 'ProgrammingAssignment2',\n",
       " 'RegModels_1',\n",
       " 'RepData_PeerAssessment1',\n",
       " 'R_functions',\n",
       " 'R_intro',\n",
       " 'test-repo',\n",
       " 'testslidify',\n",
       " 'colintest']"
      ]
     },
     "execution_count": 13,
     "metadata": {},
     "output_type": "execute_result"
    }
   ],
   "source": [
    "# Let's get fancy and only pull the names of each public repo using a comprehension\n",
    "\n",
    "[i[\"name\"] for i in r.json() if not i[\"private\"]]"
   ]
  },
  {
   "cell_type": "markdown",
   "metadata": {},
   "source": [
    "## Using POST requests to make things\n",
    "\n",
    "Let's now create a repo. This will require a `post` request and a content payload, which we can use a dict to create... requests will then do the heavy lifting of structuring the body of the request."
   ]
  },
  {
   "cell_type": "code",
   "execution_count": 14,
   "metadata": {},
   "outputs": [],
   "source": [
    "REPO_NAME = \"API-created-example\"\n",
    "\n",
    "payload = {\n",
    "  \"name\": REPO_NAME,\n",
    "  \"description\": \"repo created with api\",\n",
    "  \"private\": False\n",
    "}\n",
    "\n",
    "url = \"https://api.github.com/user/repos\"\n",
    "header = {\"Authorization\": f\"token {TOKEN}\", \"content-type\": \"application/json\"}"
   ]
  },
  {
   "cell_type": "code",
   "execution_count": 15,
   "metadata": {},
   "outputs": [],
   "source": [
    "r = requests.post(url, headers=header, data=json.dumps(payload))"
   ]
  },
  {
   "cell_type": "code",
   "execution_count": 16,
   "metadata": {},
   "outputs": [
    {
     "data": {
      "text/plain": [
       "422"
      ]
     },
     "execution_count": 16,
     "metadata": {},
     "output_type": "execute_result"
    }
   ],
   "source": [
    "# Did it work?\n",
    "r.status_code"
   ]
  },
  {
   "cell_type": "code",
   "execution_count": 17,
   "metadata": {},
   "outputs": [
    {
     "data": {
      "text/plain": [
       "{'name': 'API-created-example',\n",
       " 'private': False,\n",
       " 'description': 'repo created with api'}"
      ]
     },
     "execution_count": 17,
     "metadata": {},
     "output_type": "execute_result"
    }
   ],
   "source": [
    "# Did it actually work??\n",
    "\n",
    "r = requests.get(f\"https://api.github.com/repos/{USER}/{REPO_NAME}\")\n",
    "{k:v for k,v in r.json().items() if k in payload.keys()}"
   ]
  },
  {
   "cell_type": "code",
   "execution_count": 21,
   "metadata": {},
   "outputs": [],
   "source": [
    "# That's a shit description. Let's make it much better with a PATCH request\n",
    "payload = {\n",
    "    \"name\": REPO_NAME,\n",
    "    \"description\": \"A much better description\"\n",
    "}\n",
    "\n",
    "url = f\"https://api.github.com/repos/{USER}/{REPO_NAME}\"\n",
    "\n",
    "r = requests.patch(url, headers=header, data=json.dumps(payload))"
   ]
  },
  {
   "cell_type": "code",
   "execution_count": 22,
   "metadata": {},
   "outputs": [
    {
     "data": {
      "text/plain": [
       "200"
      ]
     },
     "execution_count": 22,
     "metadata": {},
     "output_type": "execute_result"
    }
   ],
   "source": [
    "r.status_code"
   ]
  },
  {
   "cell_type": "code",
   "execution_count": 24,
   "metadata": {},
   "outputs": [
    {
     "data": {
      "text/plain": [
       "'A much better description'"
      ]
     },
     "execution_count": 24,
     "metadata": {},
     "output_type": "execute_result"
    }
   ],
   "source": [
    "r.json()[\"description\"]"
   ]
  },
  {
   "cell_type": "code",
   "execution_count": null,
   "metadata": {},
   "outputs": [],
   "source": []
  }
 ],
 "metadata": {
  "kernelspec": {
   "display_name": "Python 3",
   "language": "python",
   "name": "python3"
  },
  "language_info": {
   "codemirror_mode": {
    "name": "ipython",
    "version": 3
   },
   "file_extension": ".py",
   "mimetype": "text/x-python",
   "name": "python",
   "nbconvert_exporter": "python",
   "pygments_lexer": "ipython3",
   "version": "3.7.1"
  }
 },
 "nbformat": 4,
 "nbformat_minor": 2
}
