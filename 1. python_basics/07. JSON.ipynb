{
 "cells": [
  {
   "cell_type": "markdown",
   "metadata": {},
   "source": [
    "# Hail to the King (of data interchange formats)\n",
    "\n",
    "The modern internet is kept running by servers firing off and receiving bits of JSON. It is the most common data interchange format you will encounter - all services you build will rely on parsing JSON you've received from somewhere and sending out valid JSON to downstream sources.\n",
    "\n",
    "What is JSON? It stands for Javascript Object Notation - it is a way of packaging up a piece of data into key-value associations so it can be easily parsed by machines but also be easily read by a human. Let's look at some:\n",
    "\n",
    "```\n",
    "{\n",
    "    \"firstName\": \"Jane\",\n",
    "    \"lastName\": \"Doe\",\n",
    "    \"hobbies\": [\"running\", \"sky diving\", \"singing\"],\n",
    "    \"age\": 35,\n",
    "    \"employed\": true,\n",
    "    \"children\": [\n",
    "        {\n",
    "            \"firstName\": \"Alice\",\n",
    "            \"age\": 6\n",
    "        },\n",
    "        {\n",
    "            \"firstName\": \"Bob\",\n",
    "            \"age\": 8\n",
    "        }\n",
    "    ]\n",
    "}\n",
    "```\n",
    "\n",
    "Hopefully, your knowledge...nay, *mastery* of python data types is helping you see that this looks an awful lot like a combination of dicts and lists. And it is! But there's some complexity around what kind of quotes to use, and then how to escape quotes if the whole thing is wrapped in quotes, and booleans are a bit different, and... and... oh boy, this just got complicated. Fortunately, python handles this complexity natively with it's `json` library.\n",
    "\n",
    "## Deserialization\n",
    "\n",
    "Let's begin by loading a json object into python - a process known as deserialization. In this case, our json is sitting in a file, so we'll need to get it out:"
   ]
  },
  {
   "cell_type": "code",
   "execution_count": 1,
   "metadata": {},
   "outputs": [],
   "source": [
    "import json\n",
    "\n",
    "## This should now look quite familiar\n",
    "with open(\"/home/jovyan/files/example_json.json\", \"r\") as f:\n",
    "    data = json.load(f)"
   ]
  },
  {
   "cell_type": "code",
   "execution_count": 2,
   "metadata": {},
   "outputs": [
    {
     "data": {
      "text/plain": [
       "{'firstName': 'Jane',\n",
       " 'lastName': 'Doe',\n",
       " 'hobbies': ['running', 'sky diving', 'singing'],\n",
       " 'age': 35,\n",
       " 'employed': True,\n",
       " 'children': [{'firstName': 'Alice', 'age': 6},\n",
       "  {'firstName': 'Bob', 'age': 8}]}"
      ]
     },
     "execution_count": 2,
     "metadata": {},
     "output_type": "execute_result"
    }
   ],
   "source": [
    "# Did we get it?\n",
    "data"
   ]
  },
  {
   "cell_type": "code",
   "execution_count": 3,
   "metadata": {},
   "outputs": [
    {
     "data": {
      "text/plain": [
       "dict"
      ]
     },
     "execution_count": 3,
     "metadata": {},
     "output_type": "execute_result"
    }
   ],
   "source": [
    "# Did it parse correctly?\n",
    "type(data)"
   ]
  },
  {
   "cell_type": "markdown",
   "metadata": {},
   "source": [
    "Take a moment to compare the python object and the raw json. See some differences?\n",
    "\n",
    "## Deserializing a string\n",
    "\n",
    "the `json.load` method works on files. What if you've just hit an api and what get returned is a string of json, not a file? You can use the `json.loads` method instead (the `s` stands for string):"
   ]
  },
  {
   "cell_type": "code",
   "execution_count": 4,
   "metadata": {},
   "outputs": [],
   "source": [
    "# Let's load the example up as a string:\n",
    "with open(\"/home/jovyan/files/example_json.json\") as f:\n",
    "    string_data = f.read()"
   ]
  },
  {
   "cell_type": "code",
   "execution_count": 5,
   "metadata": {},
   "outputs": [
    {
     "data": {
      "text/plain": [
       "'{\\n    \"firstName\": \"Jane\",\\n    \"lastName\": \"Doe\",\\n    \"hobbies\": [\"running\", \"sky diving\", \"singing\"],\\n    \"age\": 35,\\n    \"employed\": true,\\n    \"children\": [\\n        {\\n            \"firstName\": \"Alice\",\\n            \"age\": 6\\n        },\\n        {\\n            \"firstName\": \"Bob\",\\n            \"age\": 8\\n        }\\n    ]\\n}\\n'"
      ]
     },
     "execution_count": 5,
     "metadata": {},
     "output_type": "execute_result"
    }
   ],
   "source": [
    "string_data"
   ]
  },
  {
   "cell_type": "code",
   "execution_count": 6,
   "metadata": {},
   "outputs": [
    {
     "data": {
      "text/plain": [
       "{'firstName': 'Jane',\n",
       " 'lastName': 'Doe',\n",
       " 'hobbies': ['running', 'sky diving', 'singing'],\n",
       " 'age': 35,\n",
       " 'employed': True,\n",
       " 'children': [{'firstName': 'Alice', 'age': 6},\n",
       "  {'firstName': 'Bob', 'age': 8}]}"
      ]
     },
     "execution_count": 6,
     "metadata": {},
     "output_type": "execute_result"
    }
   ],
   "source": [
    "# gross. now what?\n",
    "data = json.loads(string_data)\n",
    "data"
   ]
  },
  {
   "cell_type": "markdown",
   "metadata": {},
   "source": [
    "Yay! That wasn't too bad.\n",
    "\n",
    "## Serializing JSON\n",
    "\n",
    "Ok, let's go the other way. We need to create some valid JSON for some other program to consume. Let's modify our dict first, then write the results as JSON into a new file"
   ]
  },
  {
   "cell_type": "code",
   "execution_count": 7,
   "metadata": {},
   "outputs": [
    {
     "data": {
      "text/plain": [
       "{'firstName': 'Jane',\n",
       " 'lastName': 'Doe',\n",
       " 'hobbies': ['running', 'sky diving', 'singing', 'python'],\n",
       " 'age': 35,\n",
       " 'employed': True,\n",
       " 'children': [{'firstName': 'Alice', 'age': 6},\n",
       "  {'firstName': 'Bob', 'age': 8}]}"
      ]
     },
     "execution_count": 7,
     "metadata": {},
     "output_type": "execute_result"
    }
   ],
   "source": [
    "# Let's add a hobby\n",
    "\n",
    "data[\"hobbies\"].append(\"python\")\n",
    "data"
   ]
  },
  {
   "cell_type": "code",
   "execution_count": 8,
   "metadata": {},
   "outputs": [],
   "source": [
    "# Neat - let's serialize it\n",
    "with open(\"/home/jovyan/files/output_json.json\", \"w\") as f:\n",
    "    json.dump(data, f)"
   ]
  },
  {
   "cell_type": "code",
   "execution_count": 9,
   "metadata": {},
   "outputs": [],
   "source": [
    "# What if we just need a string?\n",
    "json_string = json.dumps(data) # Once again we add an s!"
   ]
  },
  {
   "cell_type": "code",
   "execution_count": 10,
   "metadata": {},
   "outputs": [
    {
     "data": {
      "text/plain": [
       "'{\"firstName\": \"Jane\", \"lastName\": \"Doe\", \"hobbies\": [\"running\", \"sky diving\", \"singing\", \"python\"], \"age\": 35, \"employed\": true, \"children\": [{\"firstName\": \"Alice\", \"age\": 6}, {\"firstName\": \"Bob\", \"age\": 8}]}'"
      ]
     },
     "execution_count": 10,
     "metadata": {},
     "output_type": "execute_result"
    }
   ],
   "source": [
    "json_string"
   ]
  },
  {
   "cell_type": "code",
   "execution_count": 11,
   "metadata": {},
   "outputs": [],
   "source": [
    "# We can control the output a little bit\n",
    "pretty_string = json.dumps(data, indent=4)"
   ]
  },
  {
   "cell_type": "code",
   "execution_count": 12,
   "metadata": {},
   "outputs": [
    {
     "data": {
      "text/plain": [
       "'{\\n    \"firstName\": \"Jane\",\\n    \"lastName\": \"Doe\",\\n    \"hobbies\": [\\n        \"running\",\\n        \"sky diving\",\\n        \"singing\",\\n        \"python\"\\n    ],\\n    \"age\": 35,\\n    \"employed\": true,\\n    \"children\": [\\n        {\\n            \"firstName\": \"Alice\",\\n            \"age\": 6\\n        },\\n        {\\n            \"firstName\": \"Bob\",\\n            \"age\": 8\\n        }\\n    ]\\n}'"
      ]
     },
     "execution_count": 12,
     "metadata": {},
     "output_type": "execute_result"
    }
   ],
   "source": [
    "pretty_string"
   ]
  },
  {
   "cell_type": "code",
   "execution_count": 13,
   "metadata": {},
   "outputs": [
    {
     "name": "stdout",
     "output_type": "stream",
     "text": [
      "{\n",
      "    \"firstName\": \"Jane\",\n",
      "    \"lastName\": \"Doe\",\n",
      "    \"hobbies\": [\n",
      "        \"running\",\n",
      "        \"sky diving\",\n",
      "        \"singing\",\n",
      "        \"python\"\n",
      "    ],\n",
      "    \"age\": 35,\n",
      "    \"employed\": true,\n",
      "    \"children\": [\n",
      "        {\n",
      "            \"firstName\": \"Alice\",\n",
      "            \"age\": 6\n",
      "        },\n",
      "        {\n",
      "            \"firstName\": \"Bob\",\n",
      "            \"age\": 8\n",
      "        }\n",
      "    ]\n",
      "}\n"
     ]
    }
   ],
   "source": [
    "# Ew, what have we done???  Wait for it...\n",
    "print(pretty_string)"
   ]
  },
  {
   "cell_type": "markdown",
   "metadata": {},
   "source": [
    "## Have a pickle?\n",
    "\n",
    "JSON is supremely useful because basically any system you interact with will know what to do with it. However, if you're shipping data from a python environment to another python environment you may want to consider the `pickle` library, which facilitates serialization/deserialization (or SerDe) of python-native objects. Pickle can handle very large and very complex data types (even data frames) easily - worth spending some time to get familiar with it!\n",
    "\n",
    "That being said, most of your serde will be JSON related - we will be using this library all the time once we start working with AWS and `boto3`"
   ]
  },
  {
   "cell_type": "code",
   "execution_count": null,
   "metadata": {},
   "outputs": [],
   "source": []
  }
 ],
 "metadata": {
  "kernelspec": {
   "display_name": "Python 3",
   "language": "python",
   "name": "python3"
  },
  "language_info": {
   "codemirror_mode": {
    "name": "ipython",
    "version": 3
   },
   "file_extension": ".py",
   "mimetype": "text/x-python",
   "name": "python",
   "nbconvert_exporter": "python",
   "pygments_lexer": "ipython3",
   "version": "3.7.1"
  }
 },
 "nbformat": 4,
 "nbformat_minor": 2
}
