{
 "cells": [
  {
   "cell_type": "markdown",
   "metadata": {},
   "source": [
    "# Methods? Dot Notation?\n",
    "\n",
    "Python is, at it's heart, more of an OO (Object oriented) language than R. This means that you will be interacting with your data via methods most of the time. So what is a method?\n",
    "\n",
    "I will now try to do this without diving too deeply into OOP concepts (there's a whole section on it if you're interested):\n",
    "\n",
    "Objects in python have attributes and methods. Attributes define the \"state\" of the object and methods are things that can be done with/to the object. Let's look at an example:"
   ]
  },
  {
   "cell_type": "code",
   "execution_count": 1,
   "metadata": {},
   "outputs": [
    {
     "name": "stdout",
     "output_type": "stream",
     "text": [
      "[1, 2, 3]\n"
     ]
    }
   ],
   "source": [
    "my_list = [1, 2, 3]\n",
    "print(my_list)"
   ]
  },
  {
   "cell_type": "code",
   "execution_count": 2,
   "metadata": {},
   "outputs": [
    {
     "name": "stdout",
     "output_type": "stream",
     "text": [
      "[1, 2, 3, 9]\n"
     ]
    }
   ],
   "source": [
    "#Let's use the append method to change the state of my_list\n",
    "my_list.append(9)\n",
    "print(my_list)"
   ]
  },
  {
   "cell_type": "markdown",
   "metadata": {},
   "source": [
    "Note that we access a object's methods with dot notation.\n",
    "\n",
    "Dot notation is also used to access an imported library's functions and methods:"
   ]
  },
  {
   "cell_type": "code",
   "execution_count": 1,
   "metadata": {},
   "outputs": [
    {
     "data": {
      "text/plain": [
       "{'Response': [{'message': 'hello', 'sender': 'santa'},\n",
       "  {'message': 'how are you', 'sender': 'easter bunny'}]}"
      ]
     },
     "execution_count": 1,
     "metadata": {},
     "output_type": "execute_result"
    }
   ],
   "source": [
    "# we just received a response that contains json. It came in as a string and now we need to convert it to a dict\n",
    "# (much more on this later)\n",
    "import json\n",
    "\n",
    "foo = '{\"Response\": [{\"message\": \"hello\", \"sender\": \"santa\"}, {\"message\": \"how are you\", \"sender\": \"easter bunny\"}]}'\n",
    "\n",
    "foo_dict = json.loads(foo)\n",
    "foo_dict"
   ]
  },
  {
   "cell_type": "code",
   "execution_count": 13,
   "metadata": {},
   "outputs": [
    {
     "name": "stdout",
     "output_type": "stream",
     "text": [
      "{\n",
      "    \"Response\": [\n",
      "        {\n",
      "            \"message\": \"hello\",\n",
      "            \"sender\": \"santa\"\n",
      "        },\n",
      "        {\n",
      "            \"message\": \"how are you\",\n",
      "            \"sender\": \"easter bunny\"\n",
      "        }\n",
      "    ]\n",
      "}\n"
     ]
    }
   ],
   "source": [
    "#aaaaand back to a string (but pretty printed)\n",
    "\n",
    "print(json.dumps(foo_dict, indent=4))"
   ]
  },
  {
   "cell_type": "code",
   "execution_count": null,
   "metadata": {},
   "outputs": [],
   "source": []
  },
  {
   "cell_type": "markdown",
   "metadata": {},
   "source": [
    "## The takeaway\n",
    "\n",
    "In python you will use both functions and an object's methods. In R you've just used functions. Keep in mind that calling an object's method may change that object's state."
   ]
  },
  {
   "cell_type": "code",
   "execution_count": null,
   "metadata": {},
   "outputs": [],
   "source": []
  }
 ],
 "metadata": {
  "kernelspec": {
   "display_name": "Python 3",
   "language": "python",
   "name": "python3"
  },
  "language_info": {
   "codemirror_mode": {
    "name": "ipython",
    "version": 3
   },
   "file_extension": ".py",
   "mimetype": "text/x-python",
   "name": "python",
   "nbconvert_exporter": "python",
   "pygments_lexer": "ipython3",
   "version": "3.7.1"
  }
 },
 "nbformat": 4,
 "nbformat_minor": 2
}
