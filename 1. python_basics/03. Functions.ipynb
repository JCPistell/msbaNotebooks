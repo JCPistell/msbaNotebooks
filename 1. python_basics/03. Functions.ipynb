{
 "cells": [
  {
   "cell_type": "markdown",
   "metadata": {},
   "source": [
    "# Functions\n",
    "### aka how to not write code like a child\n",
    "\n",
    "The basic organizational unit of code in python is a function. Hopefully, as intermediate R users you are comfortable with the idea of organizing everything you code into functions, so this shouldn't be too much of a new concept.\n",
    "\n",
    "Organizing your code into little units of functionality will allow you to do all kinds of neat and important things:\n",
    "- Encapsulating/abstracting away complexities so you can easily compose complex behavior\n",
    "- Make your code easier to read/work with by others on your team\n",
    "- Enable unit testing, which...\n",
    "- Enables CI/CD, which...\n",
    "- means your code can go into production, which...\n",
    "- means you get to keep your job\n",
    "\n",
    "This is a theme we'll keep exploring over the next few sessions. Writing code that solves a problem should now be relatively easy for you. Writing code that is production ready is an entirely different story.\n",
    "\n",
    "Fortunately, functions are very easy to create. Let's get to it!"
   ]
  },
  {
   "cell_type": "code",
   "execution_count": null,
   "metadata": {},
   "outputs": [],
   "source": [
    "# We use the def keyword to define a function\n",
    "\n",
    "def my_first_function(parameter):\n",
    "    print(f\"this function accepted {parameter} as an argument\")\n",
    "    return parameter + 1"
   ]
  },
  {
   "cell_type": "code",
   "execution_count": null,
   "metadata": {},
   "outputs": [],
   "source": [
    "my_first_function(10)"
   ]
  },
  {
   "cell_type": "markdown",
   "metadata": {},
   "source": [
    "## Anatomy of a function\n",
    "\n",
    "we have to give our function a name, like any variable. We can then optionally specify one or more parameters. When someone calls your function they can then pass arguments into those parameters. We end this definition line with a colon - a common pattern in python you see repeated in for loops, conditionals, context blocks etc. \n",
    "\n",
    "Python doesn't use any kind of bracing to separate out pieces of functionality... instead it places heavy emphasis on white space and indentation. So the body of our function is indented. Here we can do whatever we want... in this case a simple print statement.\n",
    "\n",
    "We then can optionally return a value. Python functions differ from R functions in that returning is optional."
   ]
  },
  {
   "cell_type": "markdown",
   "metadata": {},
   "source": [
    "## When should I put something into a function?\n",
    "\n",
    "Always.\n",
    "\n",
    "That's a bit tongue-in-cheek but not really. Organize your shit. Folks who come from an R background are notorious for writing horrible spaghetti code. Don't be like that.\n",
    "\n",
    "An important note is that the same function definition syntax is also used to define a class method if you're doing OOP. Neat!"
   ]
  },
  {
   "cell_type": "code",
   "execution_count": null,
   "metadata": {},
   "outputs": [],
   "source": []
  }
 ],
 "metadata": {
  "kernelspec": {
   "display_name": "Python 3",
   "language": "python",
   "name": "python3"
  },
  "language_info": {
   "codemirror_mode": {
    "name": "ipython",
    "version": 3
   },
   "file_extension": ".py",
   "mimetype": "text/x-python",
   "name": "python",
   "nbconvert_exporter": "python",
   "pygments_lexer": "ipython3",
   "version": "3.7.1"
  }
 },
 "nbformat": 4,
 "nbformat_minor": 2
}
