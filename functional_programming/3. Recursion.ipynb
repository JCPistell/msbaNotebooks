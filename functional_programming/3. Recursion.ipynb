{
 "cells": [
  {
   "cell_type": "markdown",
   "metadata": {},
   "source": [
    "## Recursion\n",
    "\n",
    "Another interesting and useful property of functional programming is its capacity for **recursion.** A recursive function is a function that calls itself. Sounds weird, right? Let's look at a classic example - [quicksort:](http://me.dt.in.th/page/Quicksort/)"
   ]
  },
  {
   "cell_type": "code",
   "execution_count": 1,
   "metadata": {},
   "outputs": [
    {
     "data": {
      "text/html": [
       "<ol class=list-inline>\n",
       "\t<li>-12</li>\n",
       "\t<li>1</li>\n",
       "\t<li>4</li>\n",
       "\t<li>7</li>\n",
       "\t<li>8</li>\n",
       "\t<li>15</li>\n",
       "\t<li>42</li>\n",
       "\t<li>7000</li>\n",
       "</ol>\n"
      ],
      "text/latex": [
       "\\begin{enumerate*}\n",
       "\\item -12\n",
       "\\item 1\n",
       "\\item 4\n",
       "\\item 7\n",
       "\\item 8\n",
       "\\item 15\n",
       "\\item 42\n",
       "\\item 7000\n",
       "\\end{enumerate*}\n"
      ],
      "text/markdown": [
       "1. -12\n",
       "2. 1\n",
       "3. 4\n",
       "4. 7\n",
       "5. 8\n",
       "6. 15\n",
       "7. 42\n",
       "8. 7000\n",
       "\n",
       "\n"
      ],
      "text/plain": [
       "[1]  -12    1    4    7    8   15   42 7000"
      ]
     },
     "metadata": {},
     "output_type": "display_data"
    }
   ],
   "source": [
    "qs <- function(vec) {\n",
    "\n",
    "  if(length(vec) > 1) {\n",
    "\n",
    "    pivot <- vec[1]\n",
    "\n",
    "    low <- qs(vec[vec < pivot])\n",
    "    mid <- vec[vec == pivot]\n",
    "    high <- qs(vec[vec > pivot])\n",
    "\n",
    "    c(low, mid, high)\n",
    "\n",
    "\n",
    "  }\n",
    "\n",
    "  else vec\n",
    "\n",
    "}\n",
    "\n",
    "toSort <- c(4, 15, 7, -12, 42, 8, 7000, 1)\n",
    "\n",
    "sorted <- qs(toSort)\n",
    "sorted"
   ]
  },
  {
   "cell_type": "markdown",
   "metadata": {},
   "source": [
    "We *could* write this without recursion, but it would be pretty gross and long and bad. It can take a minute to wrap your head around what's going on with all these layers within layers... ![inception](https://78.media.tumblr.com/b13df7fa70e61f42a048dd381a927d7e/tumblr_onj98svswF1rfd7lko1_500.gif)\n",
    "\n",
    "...but once you do you will have mastered an important coder skill\n",
    "\n",
    "### Exercise: Factorials\n",
    "\n",
    "Write a [factorial](https://en.wikipedia.org/wiki/Factorial) function that makes use of recursion:"
   ]
  },
  {
   "cell_type": "code",
   "execution_count": null,
   "metadata": {},
   "outputs": [],
   "source": []
  },
  {
   "cell_type": "markdown",
   "metadata": {},
   "source": [
    "### Recursion with R - worth it?\n",
    "\n",
    "In truth, using recursion in R is usually not worth it. Recursion plays a more important role in purely functional languages such as Haskell. It can sometimes make your code way shorter and more legible, but performance-wise is often slower than iteration. In R, we've seen the gold-standard for iteration already - using a functional such as `lapply` or the newer `purrr` `map()` functions from Hadley Wickham.\n",
    "\n",
    "In short, you should know what recursion is and how to think through it but you will rarely use it.\n",
    "\n",
    "Besides, it's dangerous to go too deep...\n",
    "\n",
    "![top](https://media.giphy.com/media/z1meXneq0oUh2/giphy.gif)"
   ]
  },
  {
   "cell_type": "code",
   "execution_count": null,
   "metadata": {},
   "outputs": [],
   "source": []
  }
 ],
 "metadata": {
  "kernelspec": {
   "display_name": "R",
   "language": "R",
   "name": "ir"
  },
  "language_info": {
   "codemirror_mode": "r",
   "file_extension": ".r",
   "mimetype": "text/x-r-source",
   "name": "R",
   "pygments_lexer": "r",
   "version": "3.3.2"
  }
 },
 "nbformat": 4,
 "nbformat_minor": 2
}
