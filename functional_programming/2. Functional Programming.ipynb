{
 "cells": [
  {
   "cell_type": "markdown",
   "metadata": {},
   "source": [
    "# Functional Programming with R\n",
    "# Part II: Functional Programming\n",
    "\n",
    "## What do we mean by Functional Programming?\n",
    "\n",
    "Thus far we've looked at functions in their most basic sense - blocks of reusable code that do things. Now we move on to **Functional Programming** which gives us a new suite of tools and techniques to use with functions. Some of this stuff is going to seem pretty esoteric at first so keep in mind that the end goal of all of this is to write better cleaner more concise code.\n",
    "\n",
    "The big idea here is that functions in R are treated as \"first-class citizens\" which means they can be used like any other variable. Big deal, right? But think about what that means. Functions can take other functions as arguments. Functions can return functions. Functions can call themselves (known as recursion). This gives us some extremely powerful techniques.\n",
    "\n",
    "Imagine a scenario where we want to iterate over an array of colors and print something about each one. We could use the familiar `for` loop:"
   ]
  },
  {
   "cell_type": "code",
   "execution_count": 1,
   "metadata": {},
   "outputs": [
    {
     "data": {
      "text/html": [
       "<ol class=list-inline>\n",
       "\t<li>'red is my favorite color'</li>\n",
       "\t<li>'blue is my favorite color'</li>\n",
       "\t<li>'green is my favorite color'</li>\n",
       "</ol>\n"
      ],
      "text/latex": [
       "\\begin{enumerate*}\n",
       "\\item 'red is my favorite color'\n",
       "\\item 'blue is my favorite color'\n",
       "\\item 'green is my favorite color'\n",
       "\\end{enumerate*}\n"
      ],
      "text/markdown": [
       "1. 'red is my favorite color'\n",
       "2. 'blue is my favorite color'\n",
       "3. 'green is my favorite color'\n",
       "\n",
       "\n"
      ],
      "text/plain": [
       "[1] \"red is my favorite color\"   \"blue is my favorite color\" \n",
       "[3] \"green is my favorite color\""
      ]
     },
     "metadata": {},
     "output_type": "display_data"
    }
   ],
   "source": [
    "colors <- c(\"red\", \"blue\", \"green\")\n",
    "\n",
    "resultvec <- rep(NA, length(colors))\n",
    "\n",
    "for(i in seq_along(colors)) {\n",
    "    p <- paste(colors[i], \"is my favorite color\")\n",
    "    resultvec[i] <- p\n",
    "}\n",
    "\n",
    "resultvec"
   ]
  },
  {
   "cell_type": "markdown",
   "metadata": {},
   "source": [
    "This works just fine, but involves a lot of typing and thinking, which we want to avoid at all costs. A more functional approach is to use an `apply` function - a function that takes another function as an argument:"
   ]
  },
  {
   "cell_type": "code",
   "execution_count": 5,
   "metadata": {},
   "outputs": [
    {
     "data": {
      "text/html": [
       "<ol>\n",
       "\t<li>'red is my favorite color'</li>\n",
       "\t<li>'blue is my favorite color'</li>\n",
       "\t<li>'green is my favorite color'</li>\n",
       "</ol>\n"
      ],
      "text/latex": [
       "\\begin{enumerate}\n",
       "\\item 'red is my favorite color'\n",
       "\\item 'blue is my favorite color'\n",
       "\\item 'green is my favorite color'\n",
       "\\end{enumerate}\n"
      ],
      "text/markdown": [
       "1. 'red is my favorite color'\n",
       "2. 'blue is my favorite color'\n",
       "3. 'green is my favorite color'\n",
       "\n",
       "\n"
      ],
      "text/plain": [
       "[[1]]\n",
       "[1] \"red is my favorite color\"\n",
       "\n",
       "[[2]]\n",
       "[1] \"blue is my favorite color\"\n",
       "\n",
       "[[3]]\n",
       "[1] \"green is my favorite color\"\n"
      ]
     },
     "metadata": {},
     "output_type": "display_data"
    }
   ],
   "source": [
    "lapply(colors, paste, \"is my favorite color\")"
   ]
  },
  {
   "cell_type": "markdown",
   "metadata": {},
   "source": [
    "The Big Idea here is that lapply takes `paste()` as an argument and then applies every element of the `colors` vector argument to it. The `lapply` approach has some advantages over the `for` loop:\n",
    "\n",
    "1. Faster (slightly)\n",
    "2. More concise\n",
    "3. More idiomatic (once you're used to it)\n",
    "4. Purely functional i.e. stateless... this has big implications for parallelizaiton\n",
    "\n",
    "### Anonymous Functions\n",
    "\n",
    "Now is a good time to talk about a simple but powerful tool in our toolbelt: *the anonymous function.* Anonymous functions are simply functions that haven't been assigned to a variable. This lets us greatly extend the capacity of `lapply`:"
   ]
  },
  {
   "cell_type": "code",
   "execution_count": 7,
   "metadata": {},
   "outputs": [
    {
     "data": {
      "text/html": [
       "<ol>\n",
       "\t<li>21.5</li>\n",
       "\t<li>22</li>\n",
       "\t<li>22.5</li>\n",
       "\t<li>23</li>\n",
       "\t<li>23.5</li>\n",
       "\t<li>24</li>\n",
       "\t<li>24.5</li>\n",
       "\t<li>25</li>\n",
       "\t<li>25.5</li>\n",
       "\t<li>26</li>\n",
       "</ol>\n"
      ],
      "text/latex": [
       "\\begin{enumerate}\n",
       "\\item 21.5\n",
       "\\item 22\n",
       "\\item 22.5\n",
       "\\item 23\n",
       "\\item 23.5\n",
       "\\item 24\n",
       "\\item 24.5\n",
       "\\item 25\n",
       "\\item 25.5\n",
       "\\item 26\n",
       "\\end{enumerate}\n"
      ],
      "text/markdown": [
       "1. 21.5\n",
       "2. 22\n",
       "3. 22.5\n",
       "4. 23\n",
       "5. 23.5\n",
       "6. 24\n",
       "7. 24.5\n",
       "8. 25\n",
       "9. 25.5\n",
       "10. 26\n",
       "\n",
       "\n"
      ],
      "text/plain": [
       "[[1]]\n",
       "[1] 21.5\n",
       "\n",
       "[[2]]\n",
       "[1] 22\n",
       "\n",
       "[[3]]\n",
       "[1] 22.5\n",
       "\n",
       "[[4]]\n",
       "[1] 23\n",
       "\n",
       "[[5]]\n",
       "[1] 23.5\n",
       "\n",
       "[[6]]\n",
       "[1] 24\n",
       "\n",
       "[[7]]\n",
       "[1] 24.5\n",
       "\n",
       "[[8]]\n",
       "[1] 25\n",
       "\n",
       "[[9]]\n",
       "[1] 25.5\n",
       "\n",
       "[[10]]\n",
       "[1] 26\n"
      ]
     },
     "metadata": {},
     "output_type": "display_data"
    }
   ],
   "source": [
    "nums <- 1:10\n",
    "lapply(nums, function(x) mean(c(42, x)))"
   ]
  },
  {
   "cell_type": "code",
   "execution_count": 8,
   "metadata": {},
   "outputs": [
    {
     "data": {
      "text/html": [
       "<dl>\n",
       "\t<dt>$sum</dt>\n",
       "\t\t<dd>55</dd>\n",
       "\t<dt>$mean</dt>\n",
       "\t\t<dd>5.5</dd>\n",
       "\t<dt>$median</dt>\n",
       "\t\t<dd>5.5</dd>\n",
       "</dl>\n"
      ],
      "text/latex": [
       "\\begin{description}\n",
       "\\item[\\$sum] 55\n",
       "\\item[\\$mean] 5.5\n",
       "\\item[\\$median] 5.5\n",
       "\\end{description}\n"
      ],
      "text/markdown": [
       "$sum\n",
       ":   55\n",
       "$mean\n",
       ":   5.5\n",
       "$median\n",
       ":   5.5\n",
       "\n",
       "\n"
      ],
      "text/plain": [
       "$sum\n",
       "[1] 55\n",
       "\n",
       "$mean\n",
       "[1] 5.5\n",
       "\n",
       "$median\n",
       "[1] 5.5\n"
      ]
     },
     "metadata": {},
     "output_type": "display_data"
    }
   ],
   "source": [
    "# Let's get really crazy\n",
    "\n",
    "myfuns <- list(sum = sum,\n",
    "               mean = mean,\n",
    "               median = median\n",
    "               )\n",
    "\n",
    "lapply(myfuns, function(f) f(nums))"
   ]
  },
  {
   "cell_type": "markdown",
   "metadata": {},
   "source": [
    "### Exercise 1: Dataframe Splitting\n",
    "\n",
    "A common scenario is the need to split a data frame into smaller subsets to then do things with the subsets. There are serious advantages to being able to do this programmatically. Use `lapply` to split the mtcars dataset by both cyl and gear... the final result should be a list of lists (don't be scared... nested lists means your moving from using R to programming in R!)\n",
    "\n",
    "hint: You'll need to use the `split` function."
   ]
  },
  {
   "cell_type": "code",
   "execution_count": 9,
   "metadata": {},
   "outputs": [],
   "source": [
    "# Run to learn more about split\n",
    "?split"
   ]
  },
  {
   "cell_type": "code",
   "execution_count": null,
   "metadata": {},
   "outputs": [],
   "source": []
  }
 ],
 "metadata": {
  "kernelspec": {
   "display_name": "R",
   "language": "R",
   "name": "ir"
  },
  "language_info": {
   "codemirror_mode": "r",
   "file_extension": ".r",
   "mimetype": "text/x-r-source",
   "name": "R",
   "pygments_lexer": "r",
   "version": "3.3.2"
  }
 },
 "nbformat": 4,
 "nbformat_minor": 2
}
