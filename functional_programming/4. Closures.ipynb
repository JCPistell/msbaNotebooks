{
 "cells": [
  {
   "cell_type": "markdown",
   "metadata": {},
   "source": [
    "## Closures\n",
    "\n",
    "Thus far, we've encountered **functionals**, or functions that take other functions as arguments and **recursion**, a technique where a function calls itself. Now we're going to discuss **closures**, or a function that returns another function. Closures are one of the most powerful and useful functional programming techniques we can use with R.\n",
    "\n",
    "Let's look at an example:"
   ]
  },
  {
   "cell_type": "code",
   "execution_count": null,
   "metadata": {},
   "outputs": [],
   "source": [
    "toPower <- function(n) {\n",
    "    function(x) {\n",
    "        x^n\n",
    "    }\n",
    "}"
   ]
  },
  {
   "cell_type": "markdown",
   "metadata": {},
   "source": [
    "Okay... so what does this do? Behold:"
   ]
  },
  {
   "cell_type": "code",
   "execution_count": null,
   "metadata": {},
   "outputs": [],
   "source": [
    "# Let's make some functions:\n",
    "squared <- toPower(2)\n",
    "cubed <- toPower(3)"
   ]
  },
  {
   "cell_type": "code",
   "execution_count": null,
   "metadata": {},
   "outputs": [],
   "source": [
    "squared(3)"
   ]
  },
  {
   "cell_type": "code",
   "execution_count": null,
   "metadata": {},
   "outputs": [],
   "source": [
    "cubed(3)"
   ]
  },
  {
   "cell_type": "markdown",
   "metadata": {},
   "source": [
    "There are some important things to note here. Remember how in the function intro we discussed how functions have their own little environments? The function that is returned by a closure has access to its parent's environment. This allows us to do all kinds of neat things, the most obvious of which is to create little function factories. Now's a good time to remember functionals and `apply`... we can, with very very little typing, do a lot of work:"
   ]
  },
  {
   "cell_type": "code",
   "execution_count": null,
   "metadata": {},
   "outputs": [],
   "source": [
    "powers <- 1:10\n",
    "toExp <- sample(100, 10, FALSE)\n",
    "\n",
    "toExp\n",
    "powerFuncs <- lapply(powers, toPower)\n",
    "sapply(powerFuncs, function(x) x(toExp))"
   ]
  },
  {
   "cell_type": "markdown",
   "metadata": {},
   "source": [
    "## Currying\n",
    "\n",
    "Our `toPower` function is an example of **currying.** Currying means that we take a function that accepts multiple arguments and break it into a series of closures with each functional step only accepting one argument. This allows us to partially apply each function's arguments. This gives us a lot of flexibility and opens up a lot of the factory behavior we demonstrated above. Let's try it:\n",
    "\n",
    "### Exercise: Gravitational Forces\n",
    "\n",
    "The gravitational force between two objects can be expressed by the following equation:\n",
    "\n",
    "$$ \n",
    "F = G \\frac{m_1 m_2}{r^2} \n",
    "$$\n",
    "\n",
    "\n",
    "Where:\n",
    "- G = gravitational constant (6.674E-11)\n",
    "- m1, m2 = the masses of the two objects\n",
    "- r = distance between the two objects\n",
    "\n",
    "\n",
    "Curry this function and then use neat functional tricks (like `lapply`?) to evaluate the following scenarios:\n",
    "\n",
    "I weigh approximately 75 kilos. Calculate the gravitational force between me and:\n",
    "\n",
    "1. A bowling ball (7.26 kilos)\n",
    "2. A mallard duck (1.36 kilos)\n",
    "3. A blue whale (136077.7 kilos)\n",
    "4. Titan (1.3452e23 kilos)\n",
    "\n",
    "at the following distances:\n",
    "\n",
    "1. 3 meters\n",
    "2. 5 kilometers\n",
    "3. 9.461e12 kilometers"
   ]
  },
  {
   "cell_type": "code",
   "execution_count": null,
   "metadata": {},
   "outputs": [],
   "source": []
  },
  {
   "cell_type": "markdown",
   "metadata": {},
   "source": [
    "## Closures and Interactive R\n",
    "\n",
    "R is a weird language for many reasons, but one of the most unique aspects of it is it is designed to be used interactively. While **REPLs** (read, evaluate, print, loop) exist for other languages, most are only used for quick checks, not for real work. Compliled languages, by their very nature, don't even have interactive sessions.\n",
    "\n",
    "R is designed to be useful when used interactively - indeed, this is one reason why EDA is so easy with R. With effective use of Closures, we can create tools that make using R interactively more powerful. A quick example:"
   ]
  },
  {
   "cell_type": "code",
   "execution_count": null,
   "metadata": {},
   "outputs": [],
   "source": [
    "# For reference:\n",
    "mtcars"
   ]
  },
  {
   "cell_type": "code",
   "execution_count": null,
   "metadata": {},
   "outputs": [],
   "source": [
    "library(ggplot2)\n",
    "\n",
    "dot_plotter <- function(ind, dep) {\n",
    "    function(colorvar) {\n",
    "        mtcars[colorvar] <- as.factor(mtcars[[colorvar]])\n",
    "        g <- ggplot(data = mtcars, aes_string(x = ind, y = dep, fill = colorvar))\n",
    "        g + geom_point(size = 2, pch = 21)\n",
    "    }\n",
    "}"
   ]
  },
  {
   "cell_type": "code",
   "execution_count": null,
   "metadata": {},
   "outputs": [],
   "source": [
    "mpg_by_weight <- dot_plotter(\"wt\", \"mpg\")"
   ]
  },
  {
   "cell_type": "code",
   "execution_count": null,
   "metadata": {},
   "outputs": [],
   "source": [
    "mpg_by_weight(\"cyl\")"
   ]
  },
  {
   "cell_type": "code",
   "execution_count": null,
   "metadata": {},
   "outputs": [],
   "source": [
    "mpg_by_weight(\"gear\")"
   ]
  },
  {
   "cell_type": "code",
   "execution_count": null,
   "metadata": {},
   "outputs": [],
   "source": [
    "# or...\n",
    "\n",
    "hp_by_disp <- dot_plotter(\"disp\", \"hp\")\n",
    "hp_by_disp(\"am\")"
   ]
  },
  {
   "cell_type": "markdown",
   "metadata": {},
   "source": [
    "How might we make this better? Go ahead and experiment!"
   ]
  },
  {
   "cell_type": "code",
   "execution_count": null,
   "metadata": {},
   "outputs": [],
   "source": []
  }
 ],
 "metadata": {
  "kernelspec": {
   "display_name": "R",
   "language": "R",
   "name": "ir"
  },
  "language_info": {
   "codemirror_mode": "r",
   "file_extension": ".r",
   "mimetype": "text/x-r-source",
   "name": "R",
   "pygments_lexer": "r",
   "version": "3.3.2"
  }
 },
 "nbformat": 4,
 "nbformat_minor": 2
}
