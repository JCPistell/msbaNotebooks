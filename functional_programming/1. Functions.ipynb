{
 "cells": [
  {
   "cell_type": "markdown",
   "metadata": {},
   "source": [
    "# Functional Programming with R \n",
    "# Part I: Functions\n",
    "\n",
    "R is first and foremost a functional programming language. That means functions are treated as \"first class citizens\" - anything you can normally do with a variable can be done with a function.\n",
    "\n",
    "We should probably acknowledge up front that this is about as beginner/bare-bones of a guide to functional programming as you're going to get. We'll be dispensing with a lot of the cool theory and taking a hands-on practical approach. If you want to dive a little more into the details [this](http://www.defmacro.org/2006/06/19/fp.html) is a great article.\n",
    "\n",
    "## What are functions?\n",
    "\n",
    "(Hopefully we can skip most of this part. But I'll leave it here in case you need to brush up on the basics of functions.)\n",
    "\n",
    "So what are functions? You've been using functions the whole time you've been using R. EVERYTHING in R is a function"
   ]
  },
  {
   "cell_type": "code",
   "execution_count": 1,
   "metadata": {},
   "outputs": [],
   "source": [
    "# Generating numbers is a function\n",
    "randomNums <- sample(100, 10)"
   ]
  },
  {
   "cell_type": "code",
   "execution_count": 2,
   "metadata": {},
   "outputs": [
    {
     "name": "stdout",
     "output_type": "stream",
     "text": [
      " [1] 68 15 45 98 84 72 91 64 17 56\n"
     ]
    }
   ],
   "source": [
    "# Printing is a function\n",
    "print(randomNums)"
   ]
  },
  {
   "cell_type": "code",
   "execution_count": 3,
   "metadata": {},
   "outputs": [
    {
     "data": {
      "text/html": [
       "61"
      ],
      "text/latex": [
       "61"
      ],
      "text/markdown": [
       "61"
      ],
      "text/plain": [
       "[1] 61"
      ]
     },
     "metadata": {},
     "output_type": "display_data"
    }
   ],
   "source": [
    "# So is taking a mean\n",
    "mean(randomNums)"
   ]
  },
  {
   "cell_type": "markdown",
   "metadata": {},
   "source": [
    "Even what looks like a normal math operation in R is, under the hood, a function. Take addition:"
   ]
  },
  {
   "cell_type": "code",
   "execution_count": 4,
   "metadata": {},
   "outputs": [
    {
     "data": {
      "text/html": [
       "42"
      ],
      "text/latex": [
       "42"
      ],
      "text/markdown": [
       "42"
      ],
      "text/plain": [
       "[1] 42"
      ]
     },
     "metadata": {},
     "output_type": "display_data"
    }
   ],
   "source": [
    "# This seems straightforward:\n",
    "40 + 2"
   ]
  },
  {
   "cell_type": "code",
   "execution_count": 5,
   "metadata": {},
   "outputs": [
    {
     "data": {
      "text/html": [
       "42"
      ],
      "text/latex": [
       "42"
      ],
      "text/markdown": [
       "42"
      ],
      "text/plain": [
       "[1] 42"
      ]
     },
     "metadata": {},
     "output_type": "display_data"
    }
   ],
   "source": [
    "# But under the hood it's just syntactic sugar for the '+' function:\n",
    "\n",
    "'+'(40, 2)"
   ]
  },
  {
   "cell_type": "markdown",
   "metadata": {},
   "source": [
    "Functions get their name from the concept of mathmatical functions, such as: \n",
    "\n",
    "$$\n",
    "f(x) = x + 3\n",
    "$$\n",
    "\n",
    "Here if we feed 4 into the function, we get 7:\n",
    "\n",
    "$$\n",
    "f(4) = 7\n",
    "$$\n",
    "\n",
    "(If you're interested in the full story you can [google lambda calculus](http://lmgtfy.com/?q=lambda+calculus) later. For now let's move on...)\n",
    "\n",
    "The key point here is we provide an input and get an output. Functions in R (and all other functional languages) operate in the same way. We provide inputs, known as *arguments* to defined function *parameters* and a value gets *returned*. Let's recreate the mathematical function above in R:"
   ]
  },
  {
   "cell_type": "code",
   "execution_count": 6,
   "metadata": {},
   "outputs": [
    {
     "data": {
      "text/html": [
       "7"
      ],
      "text/latex": [
       "7"
      ],
      "text/markdown": [
       "7"
      ],
      "text/plain": [
       "[1] 7"
      ]
     },
     "metadata": {},
     "output_type": "display_data"
    }
   ],
   "source": [
    "f <- function(x) {\n",
    "    return(x + 3)\n",
    "}\n",
    "\n",
    "# Passing 4 in as the argument:\n",
    "f(x = 4)\n"
   ]
  },
  {
   "cell_type": "code",
   "execution_count": 7,
   "metadata": {},
   "outputs": [
    {
     "data": {
      "text/html": [
       "9"
      ],
      "text/latex": [
       "9"
      ],
      "text/markdown": [
       "9"
      ],
      "text/plain": [
       "[1] 9"
      ]
     },
     "metadata": {},
     "output_type": "display_data"
    }
   ],
   "source": [
    "# Now 6... note that we're leaving out the explicit parameter definition\n",
    "f(6)"
   ]
  },
  {
   "cell_type": "code",
   "execution_count": 8,
   "metadata": {},
   "outputs": [
    {
     "data": {
      "text/html": [
       "1237"
      ],
      "text/latex": [
       "1237"
      ],
      "text/markdown": [
       "1237"
      ],
      "text/plain": [
       "[1] 1237"
      ]
     },
     "metadata": {},
     "output_type": "display_data"
    }
   ],
   "source": [
    "# You get the idea...\n",
    "f(1234)"
   ]
  },
  {
   "cell_type": "markdown",
   "metadata": {},
   "source": [
    "Note that we assign a function to a variable just like anything else. \"f\" is a bad name for a function so let's change it. Go ahead and rename the function to something descriptive, like \"add3\" and rerun it. (Be sure to change the function call references too!)\n",
    "\n",
    "We can also give the parameter a different better name. Note that functions can define any number of parameters. Currently our example function takes one, x, and adds 3 to it. What if we wanted to add a user-defined number instead? We could do something like this:\n",
    "\n",
    "```r\n",
    "adder <- function(x, y) {\n",
    "    x + y\n",
    "}\n",
    "```\n",
    "\n",
    "Go ahead and give it a try in the code above.\n",
    "\n",
    "An additional minor note: the `return()` function is not strictly necessary here. The results of the final statement within a R function are automatically returned and it is considered a best-practice to leave `return()` out when appropriate (apparently it runs faster?) Go ahead and strip off the `return()` and rerun.\n",
    "\n",
    "### Exercise 1: sumDivide\n",
    "\n",
    "In the code box below create a function that takes two arguments - a vector of numbers and a divisor. The function should return the sum of the vector divided by the divisor. We'll kick things off for you:"
   ]
  },
  {
   "cell_type": "code",
   "execution_count": 9,
   "metadata": {},
   "outputs": [
    {
     "data": {
      "text/plain": [
       "NULL"
      ]
     },
     "metadata": {},
     "output_type": "display_data"
    },
    {
     "data": {
      "text/plain": [
       "NULL"
      ]
     },
     "metadata": {},
     "output_type": "display_data"
    }
   ],
   "source": [
    "sumDivide <- function(vec, divisor) {\n",
    "    #Your code here\n",
    "}\n",
    "\n",
    "#Some tests:\n",
    "\n",
    "sumDivide(c(6, 4), 2) #should return 5\n",
    "\n",
    "sumDivide(1:20, 5) #should return 42"
   ]
  },
  {
   "cell_type": "markdown",
   "metadata": {},
   "source": [
    "### When should I write functions?\n",
    "\n",
    "In short? Always. It's good practice and will help you learn how to structure your code into useful chunks rather than a horrible spaghetti nightmare. Those chunks, if you plan them right, will be reusable in other scripts you write, which will save you a lot of time down the road.\n",
    "\n",
    "When it comes to designing functions, always keep in mind the **Single Responsibility Principle** which states that a function should do one thing and do that thing well. Which situation would you prefer to work with?\n",
    "\n",
    "![srp](https://uploads.toptal.io/blog/image/91846/toptal-blog-image-1449597577848-60a7b4874d676e754260b05866cf967f.jpg)\n",
    "\n",
    "We can and should create simple functions and then compose more complex behaviour from those simple functions. This keeps code readable, resusable and *DRY* (don't repeat yourself)\n",
    "\n",
    "### Exercise 2: Composing complex behavior from simple functions\n",
    "\n",
    "The ultimate goal is to create a function that takes an integer argument, reverses the order (e.g. 123 becomes 321) and then extracts the number from an index argument and subtracts that number from the remaining numbers (e.g. for index 2, 321 becomes 31 - 2... so 29 gets returned. for index 1, it would be 21 - 3, etc.) Compose this function from two simpler functions, one that handles the reversing and one that handles the extracting."
   ]
  },
  {
   "cell_type": "code",
   "execution_count": 10,
   "metadata": {},
   "outputs": [
    {
     "data": {
      "text/html": [
       "31"
      ],
      "text/latex": [
       "31"
      ],
      "text/markdown": [
       "31"
      ],
      "text/plain": [
       "[1] 31"
      ]
     },
     "metadata": {},
     "output_type": "display_data"
    }
   ],
   "source": [
    "reverser <- function(num) {\n",
    "    r <- strsplit(as.character(num), \"\")[[1]]\n",
    "    r <- rev(r)\n",
    "    as.numeric(paste(r, collapse = \"\"))\n",
    "}\n",
    "\n",
    "extractor <- function(num, index) {\n",
    "    r <- strsplit(as.character(num), \"\")[[1]]\n",
    "    popped <- as.numeric(r[index])\n",
    "    glued <- as.numeric(paste(r[-index], collapse = \"\"))\n",
    "    glued - popped\n",
    "}\n",
    "\n",
    "\n",
    "revExtract <- function(num, index) {\n",
    "    reversed <- reverser(num)\n",
    "    extractor(reversed, index)\n",
    "}\n",
    "\n",
    "revExtract(123, 3)"
   ]
  },
  {
   "cell_type": "markdown",
   "metadata": {},
   "source": [
    "### Function Environments and Scope\n",
    "\n",
    "One more thing to quickly cover before we can move on. Functions create their own little environments when they are created. R then follows lexical scoping rules when looking up variables... i.e. it will look within the \"home\" environment first, then move outward. Observe:"
   ]
  },
  {
   "cell_type": "code",
   "execution_count": 11,
   "metadata": {},
   "outputs": [
    {
     "data": {
      "text/html": [
       "59"
      ],
      "text/latex": [
       "59"
      ],
      "text/markdown": [
       "59"
      ],
      "text/plain": [
       "[1] 59"
      ]
     },
     "metadata": {},
     "output_type": "display_data"
    },
    {
     "data": {
      "text/html": [
       "20"
      ],
      "text/latex": [
       "20"
      ],
      "text/markdown": [
       "20"
      ],
      "text/plain": [
       "[1] 20"
      ]
     },
     "metadata": {},
     "output_type": "display_data"
    },
    {
     "data": {
      "text/html": [
       "5"
      ],
      "text/latex": [
       "5"
      ],
      "text/markdown": [
       "5"
      ],
      "text/plain": [
       "[1] 5"
      ]
     },
     "metadata": {},
     "output_type": "display_data"
    }
   ],
   "source": [
    "y <- 20\n",
    "z <- 5\n",
    "\n",
    "mySpecialFunction <- function(x) {\n",
    "    y <- 42\n",
    "    z <- z + 10\n",
    "    x + y + z\n",
    "}\n",
    "\n",
    "mySpecialFunction(2)\n",
    "\n",
    "# What is y now?\n",
    "y\n",
    "\n",
    "# What about z?\n",
    "z"
   ]
  },
  {
   "cell_type": "markdown",
   "metadata": {},
   "source": [
    "Note that R used the function's version of `y` during the function call and that did not affect the global environment's version of `y`. When it comes to `z` the function didn't find anything in it's local environment, so it moved out a layer into the global environment. However (and this is actually really important) note that R passed that value into the function *by copy*. When we modified the copied version of `z` in the function it did not affect the version in the global environment. \n",
    "\n",
    "A related idea: Pure functional programming is *stateless*. It doesn't modify the state of any variable... it just takes inputs and generates outputs. This is different from OOP, where an object's methods can trigger side effects and modify the underlying object's state... in fact, that may be the whole point of the method."
   ]
  },
  {
   "cell_type": "code",
   "execution_count": null,
   "metadata": {},
   "outputs": [],
   "source": []
  }
 ],
 "metadata": {
  "kernelspec": {
   "display_name": "R",
   "language": "R",
   "name": "ir"
  },
  "language_info": {
   "codemirror_mode": "r",
   "file_extension": ".r",
   "mimetype": "text/x-r-source",
   "name": "R",
   "pygments_lexer": "r",
   "version": "3.3.2"
  }
 },
 "nbformat": 4,
 "nbformat_minor": 2
}
