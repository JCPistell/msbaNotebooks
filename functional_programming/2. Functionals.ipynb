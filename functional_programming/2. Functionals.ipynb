{
 "cells": [
  {
   "cell_type": "markdown",
   "metadata": {},
   "source": [
    "# Functional Programming with R\n",
    "# Part II: Functional Programming\n",
    "\n",
    "## What do we mean by Functional Programming?\n",
    "\n",
    "Thus far we've looked at functions in their most basic sense - blocks of reusable code that do things. Now we move on to **Functional Programming** which gives us a new suite of tools and techniques to use with functions. Some of this stuff is going to seem pretty esoteric at first so keep in mind that the end goal of all of this is to write better cleaner more concise code.\n",
    "\n",
    "The big idea here is that functions in R are treated as \"first-class citizens\" which means they can be used like any other variable. Big deal, right? But think about what that means. Functions can take other functions as arguments. Functions can return functions. Functions can call themselves (known as recursion). This gives us some extremely powerful techniques.\n",
    "\n",
    "## Functionals\n",
    "\n",
    "Imagine a scenario where we want to iterate over an array of colors and print something about each one. We could use the familiar `for` loop:"
   ]
  },
  {
   "cell_type": "code",
   "execution_count": null,
   "metadata": {},
   "outputs": [],
   "source": [
    "colors <- c(\"red\", \"blue\", \"green\")\n",
    "\n",
    "resultvec <- rep(NA, length(colors))\n",
    "\n",
    "for(i in seq_along(colors)) {\n",
    "    p <- paste(colors[i], \"is my favorite color\")\n",
    "    resultvec[i] <- p\n",
    "}\n",
    "\n",
    "resultvec"
   ]
  },
  {
   "cell_type": "markdown",
   "metadata": {},
   "source": [
    "This works just fine, but involves a lot of typing and thinking, which we want to avoid at all costs. A more functional approach is to use an `apply` function - a function that takes another function as an argument - better known as **a functional**:"
   ]
  },
  {
   "cell_type": "code",
   "execution_count": null,
   "metadata": {},
   "outputs": [],
   "source": [
    "lapply(colors, paste, \"is my favorite color\")"
   ]
  },
  {
   "cell_type": "markdown",
   "metadata": {},
   "source": [
    "The Big Idea here is that lapply takes `paste()` as an argument and then applies every element of the `colors` vector argument to it. The `lapply` approach has some advantages over the `for` loop:\n",
    "\n",
    "1. Faster (slightly)\n",
    "2. More concise\n",
    "3. More idiomatic (once you're used to it)\n",
    "4. Purely functional i.e. stateless... this has big implications for parallelizaiton\n",
    "\n",
    "### Anonymous Functions\n",
    "\n",
    "Now is a good time to talk about a simple but powerful tool in our toolbelt: *the anonymous function.* Anonymous functions are simply functions that haven't been assigned to a variable. This lets us greatly extend the capacity of `lapply`:"
   ]
  },
  {
   "cell_type": "code",
   "execution_count": null,
   "metadata": {},
   "outputs": [],
   "source": [
    "nums <- 1:10\n",
    "lapply(nums, function(x) mean(c(42, x)))"
   ]
  },
  {
   "cell_type": "code",
   "execution_count": null,
   "metadata": {},
   "outputs": [],
   "source": [
    "# Let's get really crazy\n",
    "\n",
    "myfuns <- list(sum = sum,\n",
    "               mean = mean,\n",
    "               median = median\n",
    "               )\n",
    "\n",
    "lapply(myfuns, function(f) f(nums))"
   ]
  },
  {
   "cell_type": "markdown",
   "metadata": {},
   "source": [
    "### Exercise 1: Dataframe Splitting\n",
    "\n",
    "A common scenario is the need to split a data frame into smaller subsets to then do things with the subsets. There are serious advantages to being able to do this programmatically. Use `lapply` to split the mtcars dataset by both cyl and gear... the final result should be a list of lists (don't be scared... nested lists means your moving from using R to programming in R!)\n",
    "\n",
    "hint: You'll need to use the `split` function."
   ]
  },
  {
   "cell_type": "code",
   "execution_count": null,
   "metadata": {},
   "outputs": [],
   "source": [
    "# Run to learn more about split\n",
    "?split"
   ]
  },
  {
   "cell_type": "code",
   "execution_count": null,
   "metadata": {},
   "outputs": [],
   "source": []
  }
 ],
 "metadata": {
  "kernelspec": {
   "display_name": "R",
   "language": "R",
   "name": "ir"
  },
  "language_info": {
   "codemirror_mode": "r",
   "file_extension": ".r",
   "mimetype": "text/x-r-source",
   "name": "R",
   "pygments_lexer": "r",
   "version": "3.3.2"
  }
 },
 "nbformat": 4,
 "nbformat_minor": 2
}
